{
 "cells": [
  {
   "cell_type": "code",
   "execution_count": 1,
   "metadata": {},
   "outputs": [],
   "source": [
    "import pandas as pd\n",
    "import matplotlib.pyplot as plt\n",
    "import strategy.trendlabeling as tlb\n",
    "import numpy as np\n",
    "import datetime\n",
    "\n",
    "import getdata as gd\n",
    "import afml.filters as flt \n",
    "from afml.util.volatility import getDailyVolatility\n",
    "import features.bars as bars  "
   ]
  },
  {
   "attachments": {},
   "cell_type": "markdown",
   "metadata": {},
   "source": [
    "1. Import Dataset"
   ]
  },
  {
   "cell_type": "code",
   "execution_count": 2,
   "metadata": {},
   "outputs": [
    {
     "name": "stdout",
     "output_type": "stream",
     "text": [
      "[*********************100%***********************]  5 of 5 completed\n"
     ]
    }
   ],
   "source": [
    "df_yf = gd.get_yf_data(tickers= \"SPY AAPL ALGM DNOW META\", \n",
    "                    period='1y',   \n",
    "                    interval='1d')"
   ]
  },
  {
   "cell_type": "code",
   "execution_count": 3,
   "metadata": {},
   "outputs": [],
   "source": [
    "df = df_yf[df_yf['Ticker'] == 'ALGM']"
   ]
  },
  {
   "cell_type": "code",
   "execution_count": 4,
   "metadata": {},
   "outputs": [
    {
     "data": {
      "text/html": [
       "<div>\n",
       "<style scoped>\n",
       "    .dataframe tbody tr th:only-of-type {\n",
       "        vertical-align: middle;\n",
       "    }\n",
       "\n",
       "    .dataframe tbody tr th {\n",
       "        vertical-align: top;\n",
       "    }\n",
       "\n",
       "    .dataframe thead th {\n",
       "        text-align: right;\n",
       "    }\n",
       "</style>\n",
       "<table border=\"1\" class=\"dataframe\">\n",
       "  <thead>\n",
       "    <tr style=\"text-align: right;\">\n",
       "      <th></th>\n",
       "      <th>Ticker</th>\n",
       "      <th>Adj Close</th>\n",
       "      <th>Close</th>\n",
       "      <th>High</th>\n",
       "      <th>Low</th>\n",
       "      <th>Open</th>\n",
       "      <th>Volume</th>\n",
       "    </tr>\n",
       "    <tr>\n",
       "      <th>Date</th>\n",
       "      <th></th>\n",
       "      <th></th>\n",
       "      <th></th>\n",
       "      <th></th>\n",
       "      <th></th>\n",
       "      <th></th>\n",
       "      <th></th>\n",
       "    </tr>\n",
       "  </thead>\n",
       "  <tbody>\n",
       "    <tr>\n",
       "      <th>2023-03-06</th>\n",
       "      <td>ALGM</td>\n",
       "      <td>45.349998</td>\n",
       "      <td>45.349998</td>\n",
       "      <td>46.903999</td>\n",
       "      <td>45.180000</td>\n",
       "      <td>45.779999</td>\n",
       "      <td>1645300</td>\n",
       "    </tr>\n",
       "    <tr>\n",
       "      <th>2023-03-07</th>\n",
       "      <td>ALGM</td>\n",
       "      <td>45.250000</td>\n",
       "      <td>45.250000</td>\n",
       "      <td>45.799999</td>\n",
       "      <td>44.689999</td>\n",
       "      <td>45.150002</td>\n",
       "      <td>1381800</td>\n",
       "    </tr>\n",
       "    <tr>\n",
       "      <th>2023-03-08</th>\n",
       "      <td>ALGM</td>\n",
       "      <td>46.029999</td>\n",
       "      <td>46.029999</td>\n",
       "      <td>46.290001</td>\n",
       "      <td>45.340000</td>\n",
       "      <td>45.490002</td>\n",
       "      <td>1183000</td>\n",
       "    </tr>\n",
       "    <tr>\n",
       "      <th>2023-03-09</th>\n",
       "      <td>ALGM</td>\n",
       "      <td>45.220001</td>\n",
       "      <td>45.220001</td>\n",
       "      <td>47.669998</td>\n",
       "      <td>44.970001</td>\n",
       "      <td>46.639999</td>\n",
       "      <td>2051700</td>\n",
       "    </tr>\n",
       "    <tr>\n",
       "      <th>2023-03-10</th>\n",
       "      <td>ALGM</td>\n",
       "      <td>44.060001</td>\n",
       "      <td>44.060001</td>\n",
       "      <td>45.560001</td>\n",
       "      <td>43.619999</td>\n",
       "      <td>45.490002</td>\n",
       "      <td>1510300</td>\n",
       "    </tr>\n",
       "  </tbody>\n",
       "</table>\n",
       "</div>"
      ],
      "text/plain": [
       "           Ticker  Adj Close      Close       High        Low       Open  \\\n",
       "Date                                                                       \n",
       "2023-03-06   ALGM  45.349998  45.349998  46.903999  45.180000  45.779999   \n",
       "2023-03-07   ALGM  45.250000  45.250000  45.799999  44.689999  45.150002   \n",
       "2023-03-08   ALGM  46.029999  46.029999  46.290001  45.340000  45.490002   \n",
       "2023-03-09   ALGM  45.220001  45.220001  47.669998  44.970001  46.639999   \n",
       "2023-03-10   ALGM  44.060001  44.060001  45.560001  43.619999  45.490002   \n",
       "\n",
       "             Volume  \n",
       "Date                 \n",
       "2023-03-06  1645300  \n",
       "2023-03-07  1381800  \n",
       "2023-03-08  1183000  \n",
       "2023-03-09  2051700  \n",
       "2023-03-10  1510300  "
      ]
     },
     "execution_count": 4,
     "metadata": {},
     "output_type": "execute_result"
    }
   ],
   "source": [
    "df.tail()"
   ]
  },
  {
   "attachments": {},
   "cell_type": "markdown",
   "metadata": {},
   "source": [
    "2. Form Dollar Bars"
   ]
  },
  {
   "cell_type": "code",
   "execution_count": 5,
   "metadata": {},
   "outputs": [],
   "source": [
    "_df = df.reset_index()\n",
    "_df = _df[['Open', 'High', 'Low', 'Adj Close', 'Date', 'Volume']]\n",
    "_df.columns = ['close', 'high', 'low', 'open', 'time', 'vol']\n",
    "_df.time = pd.to_datetime(_df.time, format=\"%Y-%m-%dT%H:%M:%S.%fZ\") \n",
    "df_dict = _df.to_dict('records')"
   ]
  },
  {
   "cell_type": "code",
   "execution_count": 6,
   "metadata": {},
   "outputs": [],
   "source": [
    "# threshold calculation \n",
    "# sample about 10 times a month \n",
    "\n",
    "# get average monthly volume\n",
    "_ = df.groupby(pd.Grouper(freq='M'))['Volume'].sum()\n",
    "avg_m_vol = _.replace(0, np.NaN).mean()/np.count_nonzero(_)\n",
    "\n",
    "#get threshold\n",
    "threshold = avg_m_vol/2\n"
   ]
  },
  {
   "cell_type": "code",
   "execution_count": 7,
   "metadata": {},
   "outputs": [
    {
     "data": {
      "text/plain": [
       "(Date\n",
       " 2022-03-31     7170300\n",
       " 2022-04-30    10324200\n",
       " 2022-05-31    14909200\n",
       " 2022-06-30    14000600\n",
       " 2022-07-31     9158300\n",
       " 2022-08-31     8378400\n",
       " 2022-09-30    12757900\n",
       " 2022-10-31    13790100\n",
       " 2022-11-30    19877400\n",
       " 2022-12-31    34084500\n",
       " 2023-01-31    27761200\n",
       " 2023-02-28    33944900\n",
       " 2023-03-31    11493600\n",
       " Freq: M, Name: Volume, dtype: int64,\n",
       " 1287873.372781065,\n",
       " 643936.6863905325)"
      ]
     },
     "execution_count": 7,
     "metadata": {},
     "output_type": "execute_result"
    }
   ],
   "source": [
    "_, avg_m_vol, threshold"
   ]
  },
  {
   "cell_type": "code",
   "execution_count": 9,
   "metadata": {},
   "outputs": [
    {
     "data": {
      "text/html": [
       "<div>\n",
       "<style scoped>\n",
       "    .dataframe tbody tr th:only-of-type {\n",
       "        vertical-align: middle;\n",
       "    }\n",
       "\n",
       "    .dataframe tbody tr th {\n",
       "        vertical-align: top;\n",
       "    }\n",
       "\n",
       "    .dataframe thead th {\n",
       "        text-align: right;\n",
       "    }\n",
       "</style>\n",
       "<table border=\"1\" class=\"dataframe\">\n",
       "  <thead>\n",
       "    <tr style=\"text-align: right;\">\n",
       "      <th></th>\n",
       "      <th>timestamp</th>\n",
       "      <th>open</th>\n",
       "      <th>high</th>\n",
       "      <th>low</th>\n",
       "      <th>close</th>\n",
       "    </tr>\n",
       "  </thead>\n",
       "  <tbody>\n",
       "    <tr>\n",
       "      <th>221</th>\n",
       "      <td>2023-01-27</td>\n",
       "      <td>35.389999</td>\n",
       "      <td>35.849998</td>\n",
       "      <td>34.779999</td>\n",
       "      <td>35.430000</td>\n",
       "    </tr>\n",
       "    <tr>\n",
       "      <th>222</th>\n",
       "      <td>2023-01-30</td>\n",
       "      <td>34.430000</td>\n",
       "      <td>35.419998</td>\n",
       "      <td>34.180000</td>\n",
       "      <td>34.950001</td>\n",
       "    </tr>\n",
       "    <tr>\n",
       "      <th>223</th>\n",
       "      <td>2023-01-31</td>\n",
       "      <td>38.169998</td>\n",
       "      <td>38.560001</td>\n",
       "      <td>34.000000</td>\n",
       "      <td>36.884998</td>\n",
       "    </tr>\n",
       "    <tr>\n",
       "      <th>224</th>\n",
       "      <td>2023-02-01</td>\n",
       "      <td>39.680000</td>\n",
       "      <td>39.970001</td>\n",
       "      <td>38.049999</td>\n",
       "      <td>38.400002</td>\n",
       "    </tr>\n",
       "    <tr>\n",
       "      <th>225</th>\n",
       "      <td>2023-02-02</td>\n",
       "      <td>41.099998</td>\n",
       "      <td>41.590000</td>\n",
       "      <td>38.700001</td>\n",
       "      <td>39.000000</td>\n",
       "    </tr>\n",
       "    <tr>\n",
       "      <th>226</th>\n",
       "      <td>2023-02-03</td>\n",
       "      <td>41.560001</td>\n",
       "      <td>41.939999</td>\n",
       "      <td>40.110001</td>\n",
       "      <td>40.160000</td>\n",
       "    </tr>\n",
       "    <tr>\n",
       "      <th>227</th>\n",
       "      <td>2023-02-06</td>\n",
       "      <td>41.220001</td>\n",
       "      <td>41.980000</td>\n",
       "      <td>40.299999</td>\n",
       "      <td>40.855000</td>\n",
       "    </tr>\n",
       "    <tr>\n",
       "      <th>228</th>\n",
       "      <td>2023-02-07</td>\n",
       "      <td>42.840000</td>\n",
       "      <td>42.959999</td>\n",
       "      <td>40.950001</td>\n",
       "      <td>41.340000</td>\n",
       "    </tr>\n",
       "    <tr>\n",
       "      <th>229</th>\n",
       "      <td>2023-02-08</td>\n",
       "      <td>42.540001</td>\n",
       "      <td>43.049999</td>\n",
       "      <td>42.230000</td>\n",
       "      <td>42.580002</td>\n",
       "    </tr>\n",
       "    <tr>\n",
       "      <th>230</th>\n",
       "      <td>2023-02-09</td>\n",
       "      <td>42.700001</td>\n",
       "      <td>44.095001</td>\n",
       "      <td>42.529999</td>\n",
       "      <td>43.480000</td>\n",
       "    </tr>\n",
       "    <tr>\n",
       "      <th>231</th>\n",
       "      <td>2023-02-10</td>\n",
       "      <td>42.730000</td>\n",
       "      <td>43.189999</td>\n",
       "      <td>42.029999</td>\n",
       "      <td>42.230000</td>\n",
       "    </tr>\n",
       "    <tr>\n",
       "      <th>232</th>\n",
       "      <td>2023-02-13</td>\n",
       "      <td>43.680000</td>\n",
       "      <td>44.150002</td>\n",
       "      <td>42.650002</td>\n",
       "      <td>43.099998</td>\n",
       "    </tr>\n",
       "    <tr>\n",
       "      <th>233</th>\n",
       "      <td>2023-02-14</td>\n",
       "      <td>44.630001</td>\n",
       "      <td>44.980000</td>\n",
       "      <td>42.910000</td>\n",
       "      <td>43.299999</td>\n",
       "    </tr>\n",
       "    <tr>\n",
       "      <th>234</th>\n",
       "      <td>2023-02-15</td>\n",
       "      <td>45.919998</td>\n",
       "      <td>45.985001</td>\n",
       "      <td>43.555000</td>\n",
       "      <td>44.049999</td>\n",
       "    </tr>\n",
       "    <tr>\n",
       "      <th>235</th>\n",
       "      <td>2023-02-16</td>\n",
       "      <td>45.029999</td>\n",
       "      <td>45.247002</td>\n",
       "      <td>44.486000</td>\n",
       "      <td>45.150002</td>\n",
       "    </tr>\n",
       "    <tr>\n",
       "      <th>236</th>\n",
       "      <td>2023-02-17</td>\n",
       "      <td>44.500000</td>\n",
       "      <td>45.099998</td>\n",
       "      <td>43.869999</td>\n",
       "      <td>44.770000</td>\n",
       "    </tr>\n",
       "    <tr>\n",
       "      <th>237</th>\n",
       "      <td>2023-02-21</td>\n",
       "      <td>42.880001</td>\n",
       "      <td>44.576000</td>\n",
       "      <td>42.700001</td>\n",
       "      <td>43.700001</td>\n",
       "    </tr>\n",
       "    <tr>\n",
       "      <th>238</th>\n",
       "      <td>2023-02-22</td>\n",
       "      <td>43.040001</td>\n",
       "      <td>43.590000</td>\n",
       "      <td>42.616001</td>\n",
       "      <td>42.810001</td>\n",
       "    </tr>\n",
       "    <tr>\n",
       "      <th>239</th>\n",
       "      <td>2023-02-23</td>\n",
       "      <td>43.790001</td>\n",
       "      <td>45.080002</td>\n",
       "      <td>42.820000</td>\n",
       "      <td>44.830002</td>\n",
       "    </tr>\n",
       "    <tr>\n",
       "      <th>240</th>\n",
       "      <td>2023-02-24</td>\n",
       "      <td>43.230000</td>\n",
       "      <td>43.540001</td>\n",
       "      <td>42.700001</td>\n",
       "      <td>42.900002</td>\n",
       "    </tr>\n",
       "    <tr>\n",
       "      <th>241</th>\n",
       "      <td>2023-02-27</td>\n",
       "      <td>42.930000</td>\n",
       "      <td>44.000000</td>\n",
       "      <td>42.860001</td>\n",
       "      <td>43.889999</td>\n",
       "    </tr>\n",
       "    <tr>\n",
       "      <th>242</th>\n",
       "      <td>2023-02-28</td>\n",
       "      <td>43.680000</td>\n",
       "      <td>44.610001</td>\n",
       "      <td>42.930000</td>\n",
       "      <td>42.930000</td>\n",
       "    </tr>\n",
       "    <tr>\n",
       "      <th>243</th>\n",
       "      <td>2023-03-01</td>\n",
       "      <td>43.770000</td>\n",
       "      <td>44.779999</td>\n",
       "      <td>43.639999</td>\n",
       "      <td>43.970001</td>\n",
       "    </tr>\n",
       "    <tr>\n",
       "      <th>244</th>\n",
       "      <td>2023-03-02</td>\n",
       "      <td>44.180000</td>\n",
       "      <td>44.490002</td>\n",
       "      <td>42.180000</td>\n",
       "      <td>42.880001</td>\n",
       "    </tr>\n",
       "    <tr>\n",
       "      <th>245</th>\n",
       "      <td>2023-03-03</td>\n",
       "      <td>45.400002</td>\n",
       "      <td>45.665001</td>\n",
       "      <td>43.959999</td>\n",
       "      <td>44.330002</td>\n",
       "    </tr>\n",
       "    <tr>\n",
       "      <th>246</th>\n",
       "      <td>2023-03-06</td>\n",
       "      <td>45.349998</td>\n",
       "      <td>46.903999</td>\n",
       "      <td>45.180000</td>\n",
       "      <td>45.779999</td>\n",
       "    </tr>\n",
       "    <tr>\n",
       "      <th>247</th>\n",
       "      <td>2023-03-07</td>\n",
       "      <td>45.250000</td>\n",
       "      <td>45.799999</td>\n",
       "      <td>44.689999</td>\n",
       "      <td>45.150002</td>\n",
       "    </tr>\n",
       "    <tr>\n",
       "      <th>248</th>\n",
       "      <td>2023-03-08</td>\n",
       "      <td>46.029999</td>\n",
       "      <td>46.290001</td>\n",
       "      <td>45.340000</td>\n",
       "      <td>45.490002</td>\n",
       "    </tr>\n",
       "    <tr>\n",
       "      <th>249</th>\n",
       "      <td>2023-03-09</td>\n",
       "      <td>45.220001</td>\n",
       "      <td>47.669998</td>\n",
       "      <td>44.970001</td>\n",
       "      <td>46.639999</td>\n",
       "    </tr>\n",
       "    <tr>\n",
       "      <th>250</th>\n",
       "      <td>2023-03-10</td>\n",
       "      <td>44.060001</td>\n",
       "      <td>45.560001</td>\n",
       "      <td>43.619999</td>\n",
       "      <td>45.490002</td>\n",
       "    </tr>\n",
       "  </tbody>\n",
       "</table>\n",
       "</div>"
      ],
      "text/plain": [
       "     timestamp       open       high        low      close\n",
       "221 2023-01-27  35.389999  35.849998  34.779999  35.430000\n",
       "222 2023-01-30  34.430000  35.419998  34.180000  34.950001\n",
       "223 2023-01-31  38.169998  38.560001  34.000000  36.884998\n",
       "224 2023-02-01  39.680000  39.970001  38.049999  38.400002\n",
       "225 2023-02-02  41.099998  41.590000  38.700001  39.000000\n",
       "226 2023-02-03  41.560001  41.939999  40.110001  40.160000\n",
       "227 2023-02-06  41.220001  41.980000  40.299999  40.855000\n",
       "228 2023-02-07  42.840000  42.959999  40.950001  41.340000\n",
       "229 2023-02-08  42.540001  43.049999  42.230000  42.580002\n",
       "230 2023-02-09  42.700001  44.095001  42.529999  43.480000\n",
       "231 2023-02-10  42.730000  43.189999  42.029999  42.230000\n",
       "232 2023-02-13  43.680000  44.150002  42.650002  43.099998\n",
       "233 2023-02-14  44.630001  44.980000  42.910000  43.299999\n",
       "234 2023-02-15  45.919998  45.985001  43.555000  44.049999\n",
       "235 2023-02-16  45.029999  45.247002  44.486000  45.150002\n",
       "236 2023-02-17  44.500000  45.099998  43.869999  44.770000\n",
       "237 2023-02-21  42.880001  44.576000  42.700001  43.700001\n",
       "238 2023-02-22  43.040001  43.590000  42.616001  42.810001\n",
       "239 2023-02-23  43.790001  45.080002  42.820000  44.830002\n",
       "240 2023-02-24  43.230000  43.540001  42.700001  42.900002\n",
       "241 2023-02-27  42.930000  44.000000  42.860001  43.889999\n",
       "242 2023-02-28  43.680000  44.610001  42.930000  42.930000\n",
       "243 2023-03-01  43.770000  44.779999  43.639999  43.970001\n",
       "244 2023-03-02  44.180000  44.490002  42.180000  42.880001\n",
       "245 2023-03-03  45.400002  45.665001  43.959999  44.330002\n",
       "246 2023-03-06  45.349998  46.903999  45.180000  45.779999\n",
       "247 2023-03-07  45.250000  45.799999  44.689999  45.150002\n",
       "248 2023-03-08  46.029999  46.290001  45.340000  45.490002\n",
       "249 2023-03-09  45.220001  47.669998  44.970001  46.639999\n",
       "250 2023-03-10  44.060001  45.560001  43.619999  45.490002"
      ]
     },
     "execution_count": 9,
     "metadata": {},
     "output_type": "execute_result"
    }
   ],
   "source": [
    "#create bars    \n",
    "dollar_bars = bars.get_dollar_bars(df_dict, threshold, interval='day') \n",
    "\n",
    "#create dataframe\n",
    "df_dollarbar = pd.DataFrame(dollar_bars)\n",
    "\n",
    "#view first ten entries\n",
    "df_dollarbar.tail(30)"
   ]
  },
  {
   "attachments": {},
   "cell_type": "markdown",
   "metadata": {},
   "source": [
    "3. Run cusum filter to get std dev of daily returns at equal threshold"
   ]
  },
  {
   "cell_type": "code",
   "execution_count": null,
   "metadata": {},
   "outputs": [],
   "source": [
    "#to do\n"
   ]
  },
  {
   "attachments": {},
   "cell_type": "markdown",
   "metadata": {},
   "source": [
    "4. Add vertical barrier"
   ]
  },
  {
   "cell_type": "code",
   "execution_count": null,
   "metadata": {},
   "outputs": [],
   "source": [
    "#to do"
   ]
  },
  {
   "attachments": {},
   "cell_type": "markdown",
   "metadata": {},
   "source": [
    "5. Apply Triple Barrier method where ptSl = [2,1]  (2 to 1 profit ratio)"
   ]
  },
  {
   "cell_type": "code",
   "execution_count": null,
   "metadata": {},
   "outputs": [],
   "source": [
    "#to do"
   ]
  },
  {
   "attachments": {},
   "cell_type": "markdown",
   "metadata": {},
   "source": [
    "6. Generate label using getBins"
   ]
  },
  {
   "cell_type": "code",
   "execution_count": null,
   "metadata": {},
   "outputs": [],
   "source": [
    "#to do"
   ]
  },
  {
   "attachments": {},
   "cell_type": "markdown",
   "metadata": {},
   "source": [
    "7. Drop underpopulated labels (snippet 3.8)"
   ]
  },
  {
   "cell_type": "code",
   "execution_count": null,
   "metadata": {},
   "outputs": [],
   "source": [
    "#to do "
   ]
  },
  {
   "attachments": {},
   "cell_type": "markdown",
   "metadata": {},
   "source": [
    "8. Adjust getBins to 0 if vertical barrier is touched first"
   ]
  },
  {
   "cell_type": "code",
   "execution_count": null,
   "metadata": {},
   "outputs": [],
   "source": [
    "#to do"
   ]
  },
  {
   "attachments": {},
   "cell_type": "markdown",
   "metadata": {},
   "source": [
    "9. Apply strategy here to suggest the side, not the bet\n",
    "    \n",
    "    9.1 Trendlabeling\n",
    "\n",
    "    9.2 Mean Reverting BB "
   ]
  },
  {
   "cell_type": "code",
   "execution_count": null,
   "metadata": {},
   "outputs": [],
   "source": [
    "#to do"
   ]
  },
  {
   "attachments": {},
   "cell_type": "markdown",
   "metadata": {},
   "source": [
    "10. Train model to decide trade or not trade since step 9 already decided a side (up or down)\n",
    "\n",
    "    10.1 Random Forest\n",
    "\n",
    "    10.2 SVC"
   ]
  },
  {
   "cell_type": "code",
   "execution_count": null,
   "metadata": {},
   "outputs": [],
   "source": [
    "#to do"
   ]
  },
  {
   "attachments": {},
   "cell_type": "markdown",
   "metadata": {},
   "source": [
    "11. Compare model with or without Secondary Model"
   ]
  },
  {
   "cell_type": "code",
   "execution_count": null,
   "metadata": {},
   "outputs": [],
   "source": [
    "# to do"
   ]
  },
  {
   "cell_type": "markdown",
   "metadata": {},
   "source": []
  }
 ],
 "metadata": {
  "kernelspec": {
   "display_name": "env1",
   "language": "python",
   "name": "python3"
  },
  "language_info": {
   "codemirror_mode": {
    "name": "ipython",
    "version": 3
   },
   "file_extension": ".py",
   "mimetype": "text/x-python",
   "name": "python",
   "nbconvert_exporter": "python",
   "pygments_lexer": "ipython3",
   "version": "3.10.10"
  },
  "orig_nbformat": 4
 },
 "nbformat": 4,
 "nbformat_minor": 2
}
