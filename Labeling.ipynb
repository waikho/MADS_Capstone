{
 "cells": [
  {
   "cell_type": "code",
   "execution_count": 1,
   "metadata": {},
   "outputs": [],
   "source": [
    "import pandas as pd\n",
    "import matplotlib.pyplot as plt\n",
    "import strategy.trendlabeling as tlb\n",
    "import numpy as np\n",
    "import datetime\n",
    "\n",
    "import getdata as gd\n",
    "import afml.filters as flt \n",
    "from afml.util.volatility import getDailyVolatility\n",
    "import features.bars as bars"
   ]
  },
  {
   "attachments": {},
   "cell_type": "markdown",
   "metadata": {},
   "source": [
    "1. Import Dataset"
   ]
  },
  {
   "cell_type": "code",
   "execution_count": 43,
   "metadata": {},
   "outputs": [
    {
     "name": "stdout",
     "output_type": "stream",
     "text": [
      "[*********************100%***********************]  4 of 4 completed\n"
     ]
    }
   ],
   "source": [
    "df = gd.get_yf_data(tickers= \"SPY AAPL ALGM DNOW\", \n",
    "                    period='7d',  #'1y', \n",
    "                    interval='1m')\n",
    "df = df[df['Ticker'] == 'ALGM']"
   ]
  },
  {
   "attachments": {},
   "cell_type": "markdown",
   "metadata": {},
   "source": [
    "2. Form Dollar Bars"
   ]
  },
  {
   "cell_type": "code",
   "execution_count": 51,
   "metadata": {},
   "outputs": [],
   "source": [
    "_df = df.reset_index()\n",
    "_df = _df[['Open', 'High', 'Low', 'Adj Close', 'Date', 'Volume']]\n",
    "_df.columns = ['close', 'high', 'low', 'open', 'time', 'vol']\n",
    "_df.time = pd.to_datetime(_df.time, format=\"%Y-%m-%dT%H:%M:%S.%fZ\") \n",
    "df_dict = _df.to_dict('records')"
   ]
  },
  {
   "cell_type": "code",
   "execution_count": 61,
   "metadata": {},
   "outputs": [],
   "source": [
    "# dollar bar threshold = \n",
    "# 30 day moving average of volume and then dividing by 50 \n",
    "# meaning sample about 50 times a day \n",
    "\n",
    "# get average daily volume\n",
    "_ = df.groupby(pd.Grouper(freq='D'))['Volume'].sum()\n",
    "avg_d_vol = _.replace(0, np.NaN).mean()/np.count_nonzero(_)\n",
    "\n",
    "#get threshold\n",
    "threshold = avg_d_vol/10\n"
   ]
  },
  {
   "cell_type": "code",
   "execution_count": 69,
   "metadata": {},
   "outputs": [
    {
     "data": {
      "text/plain": [
       "Date\n",
       "2023-03-02    1023206.0\n",
       "2023-03-03    1317372.0\n",
       "2023-03-04          0.0\n",
       "2023-03-05          0.0\n",
       "2023-03-06    1557423.0\n",
       "2023-03-07    1274807.0\n",
       "2023-03-08     996490.0\n",
       "2023-03-09    1956312.0\n",
       "2023-03-10    1351847.0\n",
       "Freq: D, Name: Volume, dtype: float64"
      ]
     },
     "execution_count": 69,
     "metadata": {},
     "output_type": "execute_result"
    }
   ],
   "source": [
    "_"
   ]
  },
  {
   "cell_type": "code",
   "execution_count": 65,
   "metadata": {},
   "outputs": [
    {
     "data": {
      "text/html": [
       "<div>\n",
       "<style scoped>\n",
       "    .dataframe tbody tr th:only-of-type {\n",
       "        vertical-align: middle;\n",
       "    }\n",
       "\n",
       "    .dataframe tbody tr th {\n",
       "        vertical-align: top;\n",
       "    }\n",
       "\n",
       "    .dataframe thead th {\n",
       "        text-align: right;\n",
       "    }\n",
       "</style>\n",
       "<table border=\"1\" class=\"dataframe\">\n",
       "  <thead>\n",
       "    <tr style=\"text-align: right;\">\n",
       "      <th></th>\n",
       "      <th>timestamp</th>\n",
       "      <th>open</th>\n",
       "      <th>high</th>\n",
       "      <th>low</th>\n",
       "      <th>close</th>\n",
       "    </tr>\n",
       "  </thead>\n",
       "  <tbody>\n",
       "    <tr>\n",
       "      <th>80</th>\n",
       "      <td>2023-03-02 11:02:00</td>\n",
       "      <td>43.599998</td>\n",
       "      <td>43.599998</td>\n",
       "      <td>43.575001</td>\n",
       "      <td>43.599998</td>\n",
       "    </tr>\n",
       "    <tr>\n",
       "      <th>81</th>\n",
       "      <td>2023-03-02 11:03:00</td>\n",
       "      <td>43.599998</td>\n",
       "      <td>43.630001</td>\n",
       "      <td>43.560001</td>\n",
       "      <td>43.599998</td>\n",
       "    </tr>\n",
       "    <tr>\n",
       "      <th>82</th>\n",
       "      <td>2023-03-02 11:04:00</td>\n",
       "      <td>43.630001</td>\n",
       "      <td>43.630001</td>\n",
       "      <td>43.593800</td>\n",
       "      <td>43.593800</td>\n",
       "    </tr>\n",
       "    <tr>\n",
       "      <th>83</th>\n",
       "      <td>2023-03-02 11:05:00</td>\n",
       "      <td>43.599998</td>\n",
       "      <td>43.634998</td>\n",
       "      <td>43.599998</td>\n",
       "      <td>43.634998</td>\n",
       "    </tr>\n",
       "    <tr>\n",
       "      <th>84</th>\n",
       "      <td>2023-03-02 11:06:00</td>\n",
       "      <td>43.549999</td>\n",
       "      <td>43.580002</td>\n",
       "      <td>43.549999</td>\n",
       "      <td>43.580002</td>\n",
       "    </tr>\n",
       "    <tr>\n",
       "      <th>85</th>\n",
       "      <td>2023-03-02 11:07:00</td>\n",
       "      <td>43.599998</td>\n",
       "      <td>43.599998</td>\n",
       "      <td>43.549999</td>\n",
       "      <td>43.549999</td>\n",
       "    </tr>\n",
       "    <tr>\n",
       "      <th>86</th>\n",
       "      <td>2023-03-02 11:09:00</td>\n",
       "      <td>43.615002</td>\n",
       "      <td>43.639999</td>\n",
       "      <td>43.615002</td>\n",
       "      <td>43.639999</td>\n",
       "    </tr>\n",
       "    <tr>\n",
       "      <th>87</th>\n",
       "      <td>2023-03-02 11:11:00</td>\n",
       "      <td>43.660000</td>\n",
       "      <td>43.660000</td>\n",
       "      <td>43.605000</td>\n",
       "      <td>43.650002</td>\n",
       "    </tr>\n",
       "    <tr>\n",
       "      <th>88</th>\n",
       "      <td>2023-03-02 11:13:00</td>\n",
       "      <td>43.650002</td>\n",
       "      <td>43.660000</td>\n",
       "      <td>43.630001</td>\n",
       "      <td>43.660000</td>\n",
       "    </tr>\n",
       "    <tr>\n",
       "      <th>89</th>\n",
       "      <td>2023-03-02 11:14:00</td>\n",
       "      <td>43.575001</td>\n",
       "      <td>43.639999</td>\n",
       "      <td>43.575001</td>\n",
       "      <td>43.630001</td>\n",
       "    </tr>\n",
       "    <tr>\n",
       "      <th>90</th>\n",
       "      <td>2023-03-02 11:16:00</td>\n",
       "      <td>43.557899</td>\n",
       "      <td>43.577499</td>\n",
       "      <td>43.555000</td>\n",
       "      <td>43.570000</td>\n",
       "    </tr>\n",
       "    <tr>\n",
       "      <th>91</th>\n",
       "      <td>2023-03-02 11:18:00</td>\n",
       "      <td>43.549999</td>\n",
       "      <td>43.570000</td>\n",
       "      <td>43.549999</td>\n",
       "      <td>43.570000</td>\n",
       "    </tr>\n",
       "    <tr>\n",
       "      <th>92</th>\n",
       "      <td>2023-03-02 11:19:00</td>\n",
       "      <td>43.599998</td>\n",
       "      <td>43.599998</td>\n",
       "      <td>43.570000</td>\n",
       "      <td>43.570000</td>\n",
       "    </tr>\n",
       "    <tr>\n",
       "      <th>93</th>\n",
       "      <td>2023-03-02 11:20:00</td>\n",
       "      <td>43.560001</td>\n",
       "      <td>43.580002</td>\n",
       "      <td>43.540001</td>\n",
       "      <td>43.580002</td>\n",
       "    </tr>\n",
       "    <tr>\n",
       "      <th>94</th>\n",
       "      <td>2023-03-02 11:21:00</td>\n",
       "      <td>43.540001</td>\n",
       "      <td>43.580002</td>\n",
       "      <td>43.540001</td>\n",
       "      <td>43.570000</td>\n",
       "    </tr>\n",
       "    <tr>\n",
       "      <th>95</th>\n",
       "      <td>2023-03-02 11:22:00</td>\n",
       "      <td>43.570000</td>\n",
       "      <td>43.570000</td>\n",
       "      <td>43.520000</td>\n",
       "      <td>43.520000</td>\n",
       "    </tr>\n",
       "    <tr>\n",
       "      <th>96</th>\n",
       "      <td>2023-03-02 11:24:00</td>\n",
       "      <td>43.580002</td>\n",
       "      <td>43.580002</td>\n",
       "      <td>43.570000</td>\n",
       "      <td>43.580002</td>\n",
       "    </tr>\n",
       "    <tr>\n",
       "      <th>97</th>\n",
       "      <td>2023-03-02 11:26:00</td>\n",
       "      <td>43.570000</td>\n",
       "      <td>43.570000</td>\n",
       "      <td>43.560001</td>\n",
       "      <td>43.570000</td>\n",
       "    </tr>\n",
       "    <tr>\n",
       "      <th>98</th>\n",
       "      <td>2023-03-02 11:27:00</td>\n",
       "      <td>43.570000</td>\n",
       "      <td>43.570000</td>\n",
       "      <td>43.529999</td>\n",
       "      <td>43.570000</td>\n",
       "    </tr>\n",
       "    <tr>\n",
       "      <th>99</th>\n",
       "      <td>2023-03-02 11:28:00</td>\n",
       "      <td>43.549999</td>\n",
       "      <td>43.580002</td>\n",
       "      <td>43.549999</td>\n",
       "      <td>43.570000</td>\n",
       "    </tr>\n",
       "  </tbody>\n",
       "</table>\n",
       "</div>"
      ],
      "text/plain": [
       "             timestamp       open       high        low      close\n",
       "80 2023-03-02 11:02:00  43.599998  43.599998  43.575001  43.599998\n",
       "81 2023-03-02 11:03:00  43.599998  43.630001  43.560001  43.599998\n",
       "82 2023-03-02 11:04:00  43.630001  43.630001  43.593800  43.593800\n",
       "83 2023-03-02 11:05:00  43.599998  43.634998  43.599998  43.634998\n",
       "84 2023-03-02 11:06:00  43.549999  43.580002  43.549999  43.580002\n",
       "85 2023-03-02 11:07:00  43.599998  43.599998  43.549999  43.549999\n",
       "86 2023-03-02 11:09:00  43.615002  43.639999  43.615002  43.639999\n",
       "87 2023-03-02 11:11:00  43.660000  43.660000  43.605000  43.650002\n",
       "88 2023-03-02 11:13:00  43.650002  43.660000  43.630001  43.660000\n",
       "89 2023-03-02 11:14:00  43.575001  43.639999  43.575001  43.630001\n",
       "90 2023-03-02 11:16:00  43.557899  43.577499  43.555000  43.570000\n",
       "91 2023-03-02 11:18:00  43.549999  43.570000  43.549999  43.570000\n",
       "92 2023-03-02 11:19:00  43.599998  43.599998  43.570000  43.570000\n",
       "93 2023-03-02 11:20:00  43.560001  43.580002  43.540001  43.580002\n",
       "94 2023-03-02 11:21:00  43.540001  43.580002  43.540001  43.570000\n",
       "95 2023-03-02 11:22:00  43.570000  43.570000  43.520000  43.520000\n",
       "96 2023-03-02 11:24:00  43.580002  43.580002  43.570000  43.580002\n",
       "97 2023-03-02 11:26:00  43.570000  43.570000  43.560001  43.570000\n",
       "98 2023-03-02 11:27:00  43.570000  43.570000  43.529999  43.570000\n",
       "99 2023-03-02 11:28:00  43.549999  43.580002  43.549999  43.570000"
      ]
     },
     "execution_count": 65,
     "metadata": {},
     "output_type": "execute_result"
    }
   ],
   "source": [
    "#create bars    \n",
    "dollar_bars = bars.get_dollar_bars(df_dict, threshold) \n",
    "\n",
    "#create dataframe\n",
    "df_dollarbar = pd.DataFrame(dollar_bars)\n",
    "\n",
    "#view first ten entries\n",
    "df_dollarbar[80:100]"
   ]
  },
  {
   "attachments": {},
   "cell_type": "markdown",
   "metadata": {},
   "source": [
    "3. Run cusum filter to get std dev of daily returns at equal threshold"
   ]
  },
  {
   "cell_type": "code",
   "execution_count": null,
   "metadata": {},
   "outputs": [],
   "source": [
    "#to do"
   ]
  },
  {
   "attachments": {},
   "cell_type": "markdown",
   "metadata": {},
   "source": [
    "4. Add vertical barrier"
   ]
  },
  {
   "cell_type": "code",
   "execution_count": null,
   "metadata": {},
   "outputs": [],
   "source": [
    "#to do"
   ]
  },
  {
   "attachments": {},
   "cell_type": "markdown",
   "metadata": {},
   "source": [
    "5. Apply Triple Barrier method where ptSl = [2,1]  (2 to 1 profit ratio)"
   ]
  },
  {
   "cell_type": "code",
   "execution_count": null,
   "metadata": {},
   "outputs": [],
   "source": [
    "#to do"
   ]
  },
  {
   "attachments": {},
   "cell_type": "markdown",
   "metadata": {},
   "source": [
    "6. Generate label using getBins"
   ]
  },
  {
   "cell_type": "code",
   "execution_count": null,
   "metadata": {},
   "outputs": [],
   "source": [
    "#to do"
   ]
  },
  {
   "attachments": {},
   "cell_type": "markdown",
   "metadata": {},
   "source": [
    "7. Drop underpopulated labels (snippet 3.8)"
   ]
  },
  {
   "cell_type": "code",
   "execution_count": null,
   "metadata": {},
   "outputs": [],
   "source": [
    "#to do "
   ]
  },
  {
   "attachments": {},
   "cell_type": "markdown",
   "metadata": {},
   "source": [
    "8. Adjust getBins to 0 if vertical barrier is touched first"
   ]
  },
  {
   "cell_type": "code",
   "execution_count": null,
   "metadata": {},
   "outputs": [],
   "source": [
    "#to do"
   ]
  },
  {
   "attachments": {},
   "cell_type": "markdown",
   "metadata": {},
   "source": [
    "9. Apply strategy here to suggest the side, not the bet\n",
    "    \n",
    "    9.1 Trendlabeling\n",
    "\n",
    "    9.2 Mean Reverting BB "
   ]
  },
  {
   "cell_type": "code",
   "execution_count": null,
   "metadata": {},
   "outputs": [],
   "source": [
    "#to do"
   ]
  },
  {
   "attachments": {},
   "cell_type": "markdown",
   "metadata": {},
   "source": [
    "10. Train model to decide trade or not trade since step 9 already decided a side (up or down)\n",
    "\n",
    "    10.1 Random Forest\n",
    "\n",
    "    10.2 SVC"
   ]
  },
  {
   "cell_type": "code",
   "execution_count": null,
   "metadata": {},
   "outputs": [],
   "source": [
    "#to do"
   ]
  },
  {
   "attachments": {},
   "cell_type": "markdown",
   "metadata": {},
   "source": [
    "11. Compare model with or without Secondary Model"
   ]
  },
  {
   "cell_type": "code",
   "execution_count": null,
   "metadata": {},
   "outputs": [],
   "source": [
    "# to do"
   ]
  },
  {
   "cell_type": "markdown",
   "metadata": {},
   "source": []
  }
 ],
 "metadata": {
  "kernelspec": {
   "display_name": "env1",
   "language": "python",
   "name": "python3"
  },
  "language_info": {
   "codemirror_mode": {
    "name": "ipython",
    "version": 3
   },
   "file_extension": ".py",
   "mimetype": "text/x-python",
   "name": "python",
   "nbconvert_exporter": "python",
   "pygments_lexer": "ipython3",
   "version": "3.10.10"
  },
  "orig_nbformat": 4
 },
 "nbformat": 4,
 "nbformat_minor": 2
}
