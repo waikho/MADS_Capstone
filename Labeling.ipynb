{
 "cells": [
  {
   "cell_type": "code",
   "execution_count": 1,
   "metadata": {},
   "outputs": [],
   "source": [
    "import pandas as pd\n",
    "import matplotlib.pyplot as plt\n",
    "import trendlabeling as tlb\n",
    "import numpy as np\n",
    "import datetime as dt\n",
    "\n",
    "import getdata as gd\n",
    "import filters as flt \n",
    "from util.volatility import getDailyVolatility"
   ]
  },
  {
   "cell_type": "code",
   "execution_count": 2,
   "metadata": {},
   "outputs": [
    {
     "name": "stdout",
     "output_type": "stream",
     "text": [
      "[*********************100%***********************]  4 of 4 completed\n"
     ]
    }
   ],
   "source": [
    "df = gd.get_yf_data(tickers= \"SPY AAPL ALGM DNOW\", period='1y', interval='1d')\n",
    "df = df[df['Ticker'] == 'ALGM']"
   ]
  },
  {
   "cell_type": "code",
   "execution_count": 3,
   "metadata": {},
   "outputs": [],
   "source": [
    "# convert Adj Close to numpy\n",
    "time_series = df['Adj Close'].to_numpy()\n",
    "\n",
    "window_size_max= 7\n",
    "\n",
    "# get trend scanning labels\n",
    "label_output = tlb.get_trend_scanning_labels(time_series=time_series, \n",
    "                                             window_size_max=window_size_max, \n",
    "                                             threshold=0.0,\n",
    "                                             opp_sign_ct=3,\n",
    "                                             side='up')"
   ]
  },
  {
   "cell_type": "code",
   "execution_count": null,
   "metadata": {},
   "outputs": [],
   "source": [
    "\n",
    "# drop last rolling window size -1 rows\n",
    "n = window_size_max-1\n",
    "df.drop(df.tail(n).index, inplace = True)\n",
    "\n",
    "# append the slope and labels to the df\n",
    "df['slope'] = label_output['slope']\n",
    "df['label'] = label_output['label']\n",
    "df['isEvent'] = label_output['isEvent']\n",
    "isEvent = df[df['isEvent']==1].index\n",
    "\n",
    "\n",
    "# get the event points with cumsum filter\n",
    "raw_time_series = df['Adj Close']\n",
    "all_events, pos_events, neg_events = flt.cusum_filter(raw_time_series, threshold=0.08, time_stamps=True)\n",
    "\n",
    "\n",
    "# create scatter\n",
    "plt.figure(figsize=(20,5))\n",
    "plt.scatter(df.index, df['Adj Close'], s=20, c=df.label, cmap='RdYlGn')\n",
    "# for d in pos_events:\n",
    "#    plt.axvline(d, color='green') \n",
    "# for d in neg_events:\n",
    "#    plt.axvline(d, color='red') \n",
    "for d in isEvent:\n",
    "   plt.axvline(d, color='blue') \n",
    "plt.show()\n",
    "\n",
    "\n",
    "# get daily volatility\n",
    "\n",
    "df['DailyVol'] = getDailyVolatility(raw_time_series, span=100)\n",
    "df['DailyVol_upper'] = df['Adj Close'] + df.DailyVol/2\n",
    "df['DailyVol_lower'] = df['Adj Close'] - df.DailyVol/2\n",
    "\n",
    "# create scatter with daily vol\n",
    "fig, ax = plt.subplots()\n",
    "#plt.figure(figsize=(20,5))\n",
    "ax.plot(df.index, df['Adj Close'], '-')\n",
    "ax.fill_between(df.index, df['DailyVol_lower'], df['DailyVol_upper'], alpha = 0.1, color='b')\n",
    "\n",
    "df"
   ]
  }
 ],
 "metadata": {
  "kernelspec": {
   "display_name": "env1",
   "language": "python",
   "name": "python3"
  },
  "language_info": {
   "codemirror_mode": {
    "name": "ipython",
    "version": 3
   },
   "file_extension": ".py",
   "mimetype": "text/x-python",
   "name": "python",
   "nbconvert_exporter": "python",
   "pygments_lexer": "ipython3",
   "version": "3.10.10"
  },
  "orig_nbformat": 4
 },
 "nbformat": 4,
 "nbformat_minor": 2
}
