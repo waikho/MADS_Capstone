{
 "cells": [
  {
   "cell_type": "code",
   "execution_count": 1,
   "metadata": {},
   "outputs": [
    {
     "ename": "UnboundLocalError",
     "evalue": "local variable 'clf' referenced before assignment",
     "output_type": "error",
     "traceback": [
      "\u001b[1;31m---------------------------------------------------------------------------\u001b[0m",
      "\u001b[1;31mUnboundLocalError\u001b[0m                         Traceback (most recent call last)",
      "Cell \u001b[1;32mIn[1], line 3\u001b[0m\n\u001b[0;32m      1\u001b[0m \u001b[39mfrom\u001b[39;00m \u001b[39mmodeling_main\u001b[39;00m \u001b[39mimport\u001b[39;00m get_one_model\n\u001b[1;32m----> 3\u001b[0m get_one_model(\u001b[39m'\u001b[39;49m\u001b[39mGLP\u001b[39;49m\u001b[39m'\u001b[39;49m)\n",
      "File \u001b[1;32mc:\\Users\\choit\\OneDrive\\Coursera\\SIADS699\\capstone_git\\MADS_Capstone\\modeling_main.py:336\u001b[0m, in \u001b[0;36mget_one_model\u001b[1;34m(ticker, config)\u001b[0m\n\u001b[0;32m    328\u001b[0m dollar_bars \u001b[39m=\u001b[39m features_SPY_RS(dollar_bars, dollar_bars_SPY)\n\u001b[0;32m    330\u001b[0m \u001b[39m# # add features - relative strength to COMP\u001b[39;00m\n\u001b[0;32m    331\u001b[0m \u001b[39m# index_COMP = get_index(ticker_df, 'COMP')\u001b[39;00m\n\u001b[0;32m    332\u001b[0m \u001b[39m# dollar_bars_COMP = bars.transform_index_based_on_dollarbar(dollar_bars, index_COMP)\u001b[39;00m\n\u001b[0;32m    333\u001b[0m \u001b[39m# dollar_bars = features_COMP_RS(dollar_bars, dollar_bars_COMP)\u001b[39;00m\n\u001b[0;32m    334\u001b[0m \n\u001b[0;32m    335\u001b[0m \u001b[39m# get the output model and train test metrics\u001b[39;00m\n\u001b[1;32m--> 336\u001b[0m clf, model_metrics \u001b[39m=\u001b[39m modeling(ticker, events, dollar_bars)\n\u001b[0;32m    338\u001b[0m \u001b[39mreturn\u001b[39;00m clf, model_metrics\n",
      "File \u001b[1;32mc:\\Users\\choit\\OneDrive\\Coursera\\SIADS699\\capstone_git\\MADS_Capstone\\modeling_main.py:269\u001b[0m, in \u001b[0;36mmodeling\u001b[1;34m(symbol, events, dollar_bars, type, RANDOM_STATE)\u001b[0m\n\u001b[0;32m    266\u001b[0m cv_gen_purged \u001b[39m=\u001b[39m PurgedKFold(n_splits\u001b[39m=\u001b[39mn_splits, samples_info_sets\u001b[39m=\u001b[39mevents\u001b[39m.\u001b[39mloc[X_train\u001b[39m.\u001b[39mindex]\u001b[39m.\u001b[39mt1)\n\u001b[0;32m    268\u001b[0m \u001b[39m# get the best parameters for the selected model\u001b[39;00m\n\u001b[1;32m--> 269\u001b[0m best_params \u001b[39m=\u001b[39m cv\u001b[39m.\u001b[39;49mperform_grid_search(X_train, y_train, cv_gen_purged, \u001b[39m'\u001b[39;49m\u001b[39mf1\u001b[39;49m\u001b[39m'\u001b[39;49m, parameters, events, dollar_bars, \u001b[39mtype\u001b[39;49m\u001b[39m=\u001b[39;49m\u001b[39mtype\u001b[39;49m, sample_weight\u001b[39m=\u001b[39;49mreturn_based_sample_weights\u001b[39m.\u001b[39;49mvalues)\n\u001b[0;32m    271\u001b[0m \u001b[39m# table to record down training results\u001b[39;00m\n\u001b[0;32m    272\u001b[0m model_metrics \u001b[39m=\u001b[39m pd\u001b[39m.\u001b[39mDataFrame(columns \u001b[39m=\u001b[39m [\u001b[39m'\u001b[39m\u001b[39mtype\u001b[39m\u001b[39m'\u001b[39m, \u001b[39m'\u001b[39m\u001b[39mbest_model\u001b[39m\u001b[39m'\u001b[39m, \u001b[39m'\u001b[39m\u001b[39mbest_cross_val_score\u001b[39m\u001b[39m'\u001b[39m, \u001b[39m'\u001b[39m\u001b[39mrecall\u001b[39m\u001b[39m'\u001b[39m, \u001b[39m'\u001b[39m\u001b[39mprecision\u001b[39m\u001b[39m'\u001b[39m, \u001b[39m'\u001b[39m\u001b[39maccuracy\u001b[39m\u001b[39m'\u001b[39m,\u001b[39m'\u001b[39m\u001b[39mrun_time\u001b[39m\u001b[39m'\u001b[39m])\n",
      "File \u001b[1;32mc:\\Users\\choit\\OneDrive\\Coursera\\SIADS699\\capstone_git\\MADS_Capstone\\crossvalidation.py:104\u001b[0m, in \u001b[0;36mperform_grid_search\u001b[1;34m(X_train, y_train, cv_gen, scoring, parameters, events, dollar_bars, type, sample_weight, RANDOM_STATE)\u001b[0m\n\u001b[0;32m     95\u001b[0m                 clf \u001b[39m=\u001b[39m SequentiallyBootstrappedBaggingClassifier(samples_info_sets\u001b[39m=\u001b[39mevents\u001b[39m.\u001b[39mloc[X_train\u001b[39m.\u001b[39mindex]\u001b[39m.\u001b[39mt1, \u001b[39m## events\u001b[39;00m\n\u001b[0;32m     96\u001b[0m                                                                 price_bars \u001b[39m=\u001b[39m dollar_bars\u001b[39m.\u001b[39mloc[X_train\u001b[39m.\u001b[39mindex\u001b[39m.\u001b[39mmin():X_train\u001b[39m.\u001b[39mindex\u001b[39m.\u001b[39mmax(), \u001b[39m'\u001b[39m\u001b[39mclose\u001b[39m\u001b[39m'\u001b[39m], \u001b[39m## df\u001b[39;00m\n\u001b[0;32m     97\u001b[0m                                                                 estimator\u001b[39m=\u001b[39mclf_base, \n\u001b[1;32m   (...)\u001b[0m\n\u001b[0;32m    101\u001b[0m                                                                 oob_score\u001b[39m=\u001b[39m\u001b[39mFalse\u001b[39;00m,\n\u001b[0;32m    102\u001b[0m                                                                 max_features\u001b[39m=\u001b[39m\u001b[39m1.\u001b[39m)\n\u001b[0;32m    103\u001b[0m             \u001b[39m# get best param dict   \u001b[39;00m\n\u001b[1;32m--> 104\u001b[0m             best_param_dict \u001b[39m=\u001b[39m get_clf_best_param_cv(\u001b[39mtype\u001b[39m, clf, X_train, y_train, cv_gen, scoring\u001b[39m=\u001b[39mscoring, sample_weight\u001b[39m=\u001b[39msample_weight)\n\u001b[0;32m    106\u001b[0m \u001b[39mreturn\u001b[39;00m best_param_dict\n",
      "\u001b[1;31mUnboundLocalError\u001b[0m: local variable 'clf' referenced before assignment"
     ]
    }
   ],
   "source": [
    "from modeling_main import get_one_model\n",
    "\n",
    "get_one_model('GLP')"
   ]
  },
  {
   "cell_type": "code",
   "execution_count": null,
   "metadata": {},
   "outputs": [],
   "source": []
  }
 ],
 "metadata": {
  "kernelspec": {
   "display_name": "env1",
   "language": "python",
   "name": "python3"
  },
  "language_info": {
   "codemirror_mode": {
    "name": "ipython",
    "version": 3
   },
   "file_extension": ".py",
   "mimetype": "text/x-python",
   "name": "python",
   "nbconvert_exporter": "python",
   "pygments_lexer": "ipython3",
   "version": "3.10.10"
  },
  "orig_nbformat": 4
 },
 "nbformat": 4,
 "nbformat_minor": 2
}
