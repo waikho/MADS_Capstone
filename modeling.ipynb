{
 "cells": [
  {
   "cell_type": "code",
   "execution_count": 1,
   "metadata": {},
   "outputs": [],
   "source": [
    "import pandas as pd\n",
    "import numpy as np\n",
    "import timeit\n",
    "import datetime as dt"
   ]
  },
  {
   "cell_type": "code",
   "execution_count": 2,
   "metadata": {},
   "outputs": [],
   "source": [
    "import strategy.trendlabeling as tlb"
   ]
  },
  {
   "cell_type": "code",
   "execution_count": 3,
   "metadata": {},
   "outputs": [],
   "source": [
    "import getdata as gd\n",
    "import afml.filters.filters as flt \n",
    "import afml.labeling.triplebarrier as tbar\n",
    "import afml.util.volatility as vol\n",
    "import features.bars as bars  \n",
    "import features.marketindicators as mkt\n",
    "import afml.features.fracdiff as fdiff\n",
    "from afml.ensemble.sb_bagging import SequentiallyBootstrappedBaggingClassifier\n",
    "from afml.sample_weights.attribution import get_weights_by_return, get_weights_by_time_decay\n",
    "from afml.feature_importance.importance import mean_decrease_impurity, mean_decrease_accuracy, single_feature_importance, plot_feature_importance\n",
    "from afml.cross_validation.cross_validation import PurgedKFold, ml_cross_val_score"
   ]
  },
  {
   "cell_type": "code",
   "execution_count": 4,
   "metadata": {},
   "outputs": [],
   "source": [
    "import matplotlib.pyplot as plt\n",
    "%matplotlib inline"
   ]
  },
  {
   "cell_type": "code",
   "execution_count": 21,
   "metadata": {},
   "outputs": [],
   "source": [
    "from sklearn.ensemble import RandomForestClassifier, BaggingClassifier\n",
    "from sklearn.tree import DecisionTreeClassifier\n",
    "from sklearn.model_selection import train_test_split, cross_val_score, GridSearchCV, KFold, StratifiedKFold\n",
    "from sklearn.metrics import roc_curve, classification_report, confusion_matrix, accuracy_score\n",
    "\n",
    "from sklearn.utils import resample\n",
    "from sklearn.utils import shuffle\n",
    "\n",
    "import warnings\n",
    "import sklearn.exceptions\n",
    "warnings.filterwarnings(\"ignore\", category=sklearn.exceptions.UndefinedMetricWarning)"
   ]
  },
  {
   "attachments": {},
   "cell_type": "markdown",
   "metadata": {},
   "source": [
    "## Import Dataset"
   ]
  },
  {
   "cell_type": "code",
   "execution_count": 6,
   "metadata": {},
   "outputs": [
    {
     "name": "stdout",
     "output_type": "stream",
     "text": [
      "[*********************100%***********************]  3 of 3 completed\n"
     ]
    }
   ],
   "source": [
    "df_yf = gd.get_yf_data(tickers= \"SPY COMP ALGM\", \n",
    "                    period='60d', #'1y',   \n",
    "                    interval='5m' #'1d'\n",
    ")"
   ]
  },
  {
   "cell_type": "code",
   "execution_count": 7,
   "metadata": {},
   "outputs": [],
   "source": [
    "df = df_yf[df_yf['Ticker'] == 'ALGM']\n",
    "index_SPY = df_yf[df_yf['Ticker'] == 'SPY']\n",
    "index_COMP = df_yf[df_yf['Ticker'] == 'COMP']"
   ]
  },
  {
   "attachments": {},
   "cell_type": "markdown",
   "metadata": {},
   "source": [
    "## Get Labels: Trend Scanning method"
   ]
  },
  {
   "cell_type": "code",
   "execution_count": 8,
   "metadata": {},
   "outputs": [],
   "source": [
    "# convert Adj Close to numpy\n",
    "time_series = df['Adj Close'].to_numpy()\n",
    "window_size_max= 7\n",
    "\n",
    "# get trend scanning labels\n",
    "label_output = tlb.get_trend_scanning_labels(time_series=time_series, \n",
    "                                             window_size_max=window_size_max, \n",
    "                                             threshold=0.0,\n",
    "                                             opp_sign_ct=3,\n",
    "                                             side='up')\n",
    "\n",
    "# drop last rolling window size -1 rows\n",
    "n = window_size_max-1\n",
    "#df.drop(df.tail(n).index, inplace = True)\n",
    "df = df.iloc[:-n]\n",
    "\n",
    "# append the slope and labels to the df\n",
    "df['slope'] = label_output['slope']\n",
    "df['label'] = label_output['label']\n",
    "# df['isEvent'] = label_output['isEvent']\n",
    "# isEvent = df[df['isEvent']==1].index"
   ]
  },
  {
   "attachments": {},
   "cell_type": "markdown",
   "metadata": {},
   "source": [
    "## Get Labels: Simple moving average cross over strategy"
   ]
  },
  {
   "cell_type": "code",
   "execution_count": 9,
   "metadata": {},
   "outputs": [],
   "source": [
    "# need to cite here ...\n",
    "\n",
    "# compute moving averages\n",
    "fast_window = 20\n",
    "slow_window = 50\n",
    "\n",
    "df['fast_mavg'] = df['Adj Close'].rolling(window=fast_window, min_periods=fast_window, center=False).mean()\n",
    "df['slow_mavg'] = df['Adj Close'].rolling(window=slow_window, min_periods=slow_window, center=False).mean()\n",
    "df.head()\n",
    "\n",
    "# Compute sides\n",
    "df['side'] = np.nan\n",
    "\n",
    "long_signals = df['fast_mavg'] >= df['slow_mavg'] \n",
    "short_signals = df['fast_mavg'] < df['slow_mavg'] \n",
    "df.loc[long_signals, 'side'] = 1\n",
    "df.loc[short_signals, 'side'] = -1\n",
    "\n",
    "# Remove Look ahead biase by lagging the signal\n",
    "df['side'] = df['side'].shift(1)"
   ]
  },
  {
   "attachments": {},
   "cell_type": "markdown",
   "metadata": {},
   "source": [
    "## Raw Data "
   ]
  },
  {
   "cell_type": "code",
   "execution_count": 10,
   "metadata": {},
   "outputs": [],
   "source": [
    "# Save the raw data\n",
    "raw_data = df.drop(columns='Close').copy()\n",
    "\n",
    "# Drop the NaN values from our data set\n",
    "df.dropna(axis=0, how='any', inplace=True)"
   ]
  },
  {
   "cell_type": "code",
   "execution_count": 11,
   "metadata": {},
   "outputs": [
    {
     "name": "stdout",
     "output_type": "stream",
     "text": [
      " 1    2393\n",
      "-1    2231\n",
      "Name: label, dtype: int64\n",
      " 1.0    2587\n",
      "-1.0    2037\n",
      "Name: side, dtype: int64\n"
     ]
    }
   ],
   "source": [
    "print(df['label'].value_counts())\n",
    "print(df['side'].value_counts())"
   ]
  },
  {
   "attachments": {},
   "cell_type": "markdown",
   "metadata": {},
   "source": [
    "## Form Dollar Bars"
   ]
  },
  {
   "cell_type": "code",
   "execution_count": 12,
   "metadata": {},
   "outputs": [],
   "source": [
    "# construct the input data\n",
    "_df = df.reset_index()\n",
    "trades = _df[['Date', 'Adj Close', 'Volume']].to_numpy()\n",
    "\n",
    "# define the dollar value to sample the data\n",
    "# frequency = _df.Volume.mean()*20\n",
    "frequency = df['Volume'].resample('D').sum().mean()/10.0\n",
    "\n",
    "# generate the dollar bars\n",
    "dollar_bars = bars.generate_dollarbars(trades, frequency=frequency) \n",
    "\n",
    "# define closing price\n",
    "close = dollar_bars.close.copy()"
   ]
  },
  {
   "attachments": {},
   "cell_type": "markdown",
   "metadata": {},
   "source": [
    "## Filter Events using CUSUM Filter\n",
    "\n",
    "We will then predict what will happen if the event is triggered, based on the 'side' signal from the Trend Following Strategy "
   ]
  },
  {
   "cell_type": "code",
   "execution_count": 13,
   "metadata": {},
   "outputs": [],
   "source": [
    "# get Daily Volatility\n",
    "dailyVolatility = vol.getDailyVol(close, span=50)\n",
    "\n",
    "# apply cusum filter to identify events as cumulative log return passed threshold\n",
    "#tEvents = flt.getTEvents(close, h=dailyVolatility.mean()*0.5)\n",
    "tEvents = flt.cusum_filter(close, threshold=dailyVolatility.mean()*0.5)\n",
    "\n",
    "# Define vertical barrier - subjective judgment\n",
    "num_days = 1\n",
    "\n",
    "t1 = tbar.add_vertical_barrier(tEvents, close, num_days=num_days)"
   ]
  },
  {
   "cell_type": "code",
   "execution_count": 14,
   "metadata": {},
   "outputs": [],
   "source": [
    "# get side labels from trend following method\n",
    "side_labels = []\n",
    "\n",
    "for dt in dollar_bars.index:\n",
    "    side_labels.append(df.loc[dt]['label'])\n",
    "\n",
    "side_labels = pd.Series(side_labels, index=dollar_bars.index)"
   ]
  },
  {
   "attachments": {},
   "cell_type": "markdown",
   "metadata": {},
   "source": [
    "## Create Trade or Not Trade labels using Triple Barrier Method"
   ]
  },
  {
   "cell_type": "code",
   "execution_count": 15,
   "metadata": {},
   "outputs": [],
   "source": [
    "# Define upper and lower horizontal barriers\n",
    "# set profit and stop loss ratio\n",
    "ptsl = [2,1]\n",
    "\n",
    "# select minRet\n",
    "minRet = 0.01 # requires at least 1 percent return\n",
    "\n",
    "# Run in single-threaded mode on Windows\n",
    "import platform, os\n",
    "if platform.system() == \"Windows\":\n",
    "    cpus = 1\n",
    "else:\n",
    "    cpus = os.cpu_count() - 1\n",
    "    \n",
    "events = tbar.get_events(dollar_bars.close, \n",
    "                         t_events=tEvents, \n",
    "                         pt_sl=ptsl, \n",
    "                         target=dailyVolatility, \n",
    "                         min_ret=minRet, \n",
    "                         num_threads=cpus, \n",
    "                         vertical_barrier_times=t1,\n",
    "                         side_prediction=side_labels).dropna()\n",
    "\n"
   ]
  },
  {
   "cell_type": "code",
   "execution_count": 16,
   "metadata": {},
   "outputs": [
    {
     "name": "stdout",
     "output_type": "stream",
     "text": [
      "0    329\n",
      "1     70\n",
      "Name: bin, dtype: int64\n"
     ]
    }
   ],
   "source": [
    "labels = tbar.get_bins(triple_barrier_events = events, close=close)\n",
    "\n",
    "print(labels.bin.value_counts())"
   ]
  },
  {
   "cell_type": "code",
   "execution_count": 17,
   "metadata": {},
   "outputs": [
    {
     "name": "stdout",
     "output_type": "stream",
     "text": [
      "0    329\n",
      "1     70\n",
      "Name: bin, dtype: int64\n"
     ]
    }
   ],
   "source": [
    "# Drop underpopulated labels\n",
    "clean_labels  = tbar.drop_labels(labels)\n",
    "\n",
    "print(clean_labels.bin.value_counts())"
   ]
  },
  {
   "cell_type": "code",
   "execution_count": 18,
   "metadata": {},
   "outputs": [
    {
     "data": {
      "text/html": [
       "<div>\n",
       "<style scoped>\n",
       "    .dataframe tbody tr th:only-of-type {\n",
       "        vertical-align: middle;\n",
       "    }\n",
       "\n",
       "    .dataframe tbody tr th {\n",
       "        vertical-align: top;\n",
       "    }\n",
       "\n",
       "    .dataframe thead th {\n",
       "        text-align: right;\n",
       "    }\n",
       "</style>\n",
       "<table border=\"1\" class=\"dataframe\">\n",
       "  <thead>\n",
       "    <tr style=\"text-align: right;\">\n",
       "      <th></th>\n",
       "      <th>ret</th>\n",
       "      <th>trgt</th>\n",
       "      <th>bin</th>\n",
       "      <th>side</th>\n",
       "    </tr>\n",
       "  </thead>\n",
       "  <tbody>\n",
       "    <tr>\n",
       "      <th>2022-12-23 09:35:00</th>\n",
       "      <td>0.023358</td>\n",
       "      <td>0.010898</td>\n",
       "      <td>1</td>\n",
       "      <td>1.0</td>\n",
       "    </tr>\n",
       "    <tr>\n",
       "      <th>2023-01-03 09:30:00</th>\n",
       "      <td>0.025081</td>\n",
       "      <td>0.010694</td>\n",
       "      <td>1</td>\n",
       "      <td>-1.0</td>\n",
       "    </tr>\n",
       "    <tr>\n",
       "      <th>2023-01-03 09:45:00</th>\n",
       "      <td>0.022549</td>\n",
       "      <td>0.010935</td>\n",
       "      <td>1</td>\n",
       "      <td>-1.0</td>\n",
       "    </tr>\n",
       "    <tr>\n",
       "      <th>2023-01-04 14:55:00</th>\n",
       "      <td>0.021328</td>\n",
       "      <td>0.010265</td>\n",
       "      <td>1</td>\n",
       "      <td>-1.0</td>\n",
       "    </tr>\n",
       "    <tr>\n",
       "      <th>2023-01-05 10:25:00</th>\n",
       "      <td>0.022360</td>\n",
       "      <td>0.010732</td>\n",
       "      <td>1</td>\n",
       "      <td>-1.0</td>\n",
       "    </tr>\n",
       "    <tr>\n",
       "      <th>...</th>\n",
       "      <td>...</td>\n",
       "      <td>...</td>\n",
       "      <td>...</td>\n",
       "      <td>...</td>\n",
       "    </tr>\n",
       "    <tr>\n",
       "      <th>2023-03-14 15:55:00</th>\n",
       "      <td>0.026603</td>\n",
       "      <td>0.012056</td>\n",
       "      <td>1</td>\n",
       "      <td>-1.0</td>\n",
       "    </tr>\n",
       "    <tr>\n",
       "      <th>2023-03-15 09:40:00</th>\n",
       "      <td>0.028195</td>\n",
       "      <td>0.013030</td>\n",
       "      <td>1</td>\n",
       "      <td>-1.0</td>\n",
       "    </tr>\n",
       "    <tr>\n",
       "      <th>2023-03-15 13:40:00</th>\n",
       "      <td>0.046626</td>\n",
       "      <td>0.022746</td>\n",
       "      <td>1</td>\n",
       "      <td>1.0</td>\n",
       "    </tr>\n",
       "    <tr>\n",
       "      <th>2023-03-16 09:40:00</th>\n",
       "      <td>0.031625</td>\n",
       "      <td>0.014879</td>\n",
       "      <td>1</td>\n",
       "      <td>1.0</td>\n",
       "    </tr>\n",
       "    <tr>\n",
       "      <th>2023-03-16 10:15:00</th>\n",
       "      <td>0.035141</td>\n",
       "      <td>0.017076</td>\n",
       "      <td>1</td>\n",
       "      <td>1.0</td>\n",
       "    </tr>\n",
       "  </tbody>\n",
       "</table>\n",
       "<p>70 rows × 4 columns</p>\n",
       "</div>"
      ],
      "text/plain": [
       "                          ret      trgt  bin  side\n",
       "2022-12-23 09:35:00  0.023358  0.010898    1   1.0\n",
       "2023-01-03 09:30:00  0.025081  0.010694    1  -1.0\n",
       "2023-01-03 09:45:00  0.022549  0.010935    1  -1.0\n",
       "2023-01-04 14:55:00  0.021328  0.010265    1  -1.0\n",
       "2023-01-05 10:25:00  0.022360  0.010732    1  -1.0\n",
       "...                       ...       ...  ...   ...\n",
       "2023-03-14 15:55:00  0.026603  0.012056    1  -1.0\n",
       "2023-03-15 09:40:00  0.028195  0.013030    1  -1.0\n",
       "2023-03-15 13:40:00  0.046626  0.022746    1   1.0\n",
       "2023-03-16 09:40:00  0.031625  0.014879    1   1.0\n",
       "2023-03-16 10:15:00  0.035141  0.017076    1   1.0\n",
       "\n",
       "[70 rows x 4 columns]"
      ]
     },
     "execution_count": 18,
     "metadata": {},
     "output_type": "execute_result"
    }
   ],
   "source": [
    "clean_labels[clean_labels['bin']==1]"
   ]
  },
  {
   "attachments": {},
   "cell_type": "markdown",
   "metadata": {},
   "source": [
    "## Results of Primary Model without features"
   ]
  },
  {
   "cell_type": "code",
   "execution_count": 22,
   "metadata": {},
   "outputs": [
    {
     "name": "stdout",
     "output_type": "stream",
     "text": [
      "              precision    recall  f1-score   support\n",
      "\n",
      "           0       0.00      0.00      0.00       329\n",
      "           1       0.18      1.00      0.30        70\n",
      "\n",
      "    accuracy                           0.18       399\n",
      "   macro avg       0.09      0.50      0.15       399\n",
      "weighted avg       0.03      0.18      0.05       399\n",
      "\n",
      "Confusion Matrix\n",
      "[[  0 329]\n",
      " [  0  70]]\n",
      "\n",
      "Accuracy\n",
      "0.17543859649122806\n"
     ]
    }
   ],
   "source": [
    "primary_forecast = pd.DataFrame(clean_labels['bin'])\n",
    "primary_forecast['pred'] = 1\n",
    "primary_forecast.columns = ['actual', 'pred']\n",
    "\n",
    "# Performance Metrics\n",
    "actual = primary_forecast['actual']\n",
    "pred = primary_forecast['pred']\n",
    "print(classification_report(y_true=actual, y_pred=pred))\n",
    "\n",
    "print(\"Confusion Matrix\")\n",
    "print(confusion_matrix(actual, pred))\n",
    "\n",
    "print('')\n",
    "print(\"Accuracy\")\n",
    "print(accuracy_score(actual, pred))"
   ]
  },
  {
   "attachments": {},
   "cell_type": "markdown",
   "metadata": {},
   "source": [
    "#### Fitting a Meta model\n",
    "\n",
    "Use features: volatility, serial correlation, relative strength to S&P"
   ]
  },
  {
   "cell_type": "code",
   "execution_count": 23,
   "metadata": {},
   "outputs": [
    {
     "data": {
      "text/html": [
       "<div>\n",
       "<style scoped>\n",
       "    .dataframe tbody tr th:only-of-type {\n",
       "        vertical-align: middle;\n",
       "    }\n",
       "\n",
       "    .dataframe tbody tr th {\n",
       "        vertical-align: top;\n",
       "    }\n",
       "\n",
       "    .dataframe thead th {\n",
       "        text-align: right;\n",
       "    }\n",
       "</style>\n",
       "<table border=\"1\" class=\"dataframe\">\n",
       "  <thead>\n",
       "    <tr style=\"text-align: right;\">\n",
       "      <th></th>\n",
       "      <th>Ticker</th>\n",
       "      <th>Adj Close</th>\n",
       "      <th>High</th>\n",
       "      <th>Low</th>\n",
       "      <th>Open</th>\n",
       "      <th>Volume</th>\n",
       "      <th>slope</th>\n",
       "      <th>label</th>\n",
       "      <th>fast_mavg</th>\n",
       "      <th>slow_mavg</th>\n",
       "      <th>side</th>\n",
       "    </tr>\n",
       "    <tr>\n",
       "      <th>Date</th>\n",
       "      <th></th>\n",
       "      <th></th>\n",
       "      <th></th>\n",
       "      <th></th>\n",
       "      <th></th>\n",
       "      <th></th>\n",
       "      <th></th>\n",
       "      <th></th>\n",
       "      <th></th>\n",
       "      <th></th>\n",
       "      <th></th>\n",
       "    </tr>\n",
       "  </thead>\n",
       "  <tbody>\n",
       "    <tr>\n",
       "      <th>2022-12-20 13:40:00</th>\n",
       "      <td>ALGM</td>\n",
       "      <td>30.045000</td>\n",
       "      <td>30.115000</td>\n",
       "      <td>30.045000</td>\n",
       "      <td>30.110001</td>\n",
       "      <td>6801.0</td>\n",
       "      <td>-0.0375</td>\n",
       "      <td>-1</td>\n",
       "      <td>29.953695</td>\n",
       "      <td>29.78871</td>\n",
       "      <td>1.0</td>\n",
       "    </tr>\n",
       "    <tr>\n",
       "      <th>2022-12-20 13:45:00</th>\n",
       "      <td>ALGM</td>\n",
       "      <td>30.040001</td>\n",
       "      <td>30.090000</td>\n",
       "      <td>30.014999</td>\n",
       "      <td>30.049999</td>\n",
       "      <td>5114.0</td>\n",
       "      <td>-0.0180</td>\n",
       "      <td>-1</td>\n",
       "      <td>29.960945</td>\n",
       "      <td>29.79951</td>\n",
       "      <td>1.0</td>\n",
       "    </tr>\n",
       "    <tr>\n",
       "      <th>2022-12-20 13:50:00</th>\n",
       "      <td>ALGM</td>\n",
       "      <td>29.969999</td>\n",
       "      <td>30.059999</td>\n",
       "      <td>29.969999</td>\n",
       "      <td>30.049999</td>\n",
       "      <td>17844.0</td>\n",
       "      <td>0.0100</td>\n",
       "      <td>1</td>\n",
       "      <td>29.964445</td>\n",
       "      <td>29.81171</td>\n",
       "      <td>1.0</td>\n",
       "    </tr>\n",
       "    <tr>\n",
       "      <th>2022-12-20 13:55:00</th>\n",
       "      <td>ALGM</td>\n",
       "      <td>29.940001</td>\n",
       "      <td>29.975000</td>\n",
       "      <td>29.879999</td>\n",
       "      <td>29.969999</td>\n",
       "      <td>16614.0</td>\n",
       "      <td>0.0300</td>\n",
       "      <td>1</td>\n",
       "      <td>29.966445</td>\n",
       "      <td>29.82151</td>\n",
       "      <td>1.0</td>\n",
       "    </tr>\n",
       "    <tr>\n",
       "      <th>2022-12-20 14:00:00</th>\n",
       "      <td>ALGM</td>\n",
       "      <td>29.990000</td>\n",
       "      <td>30.000000</td>\n",
       "      <td>29.920000</td>\n",
       "      <td>29.940001</td>\n",
       "      <td>6640.0</td>\n",
       "      <td>0.0090</td>\n",
       "      <td>1</td>\n",
       "      <td>29.973195</td>\n",
       "      <td>29.83071</td>\n",
       "      <td>1.0</td>\n",
       "    </tr>\n",
       "  </tbody>\n",
       "</table>\n",
       "</div>"
      ],
      "text/plain": [
       "                    Ticker  Adj Close       High        Low       Open  \\\n",
       "Date                                                                     \n",
       "2022-12-20 13:40:00   ALGM  30.045000  30.115000  30.045000  30.110001   \n",
       "2022-12-20 13:45:00   ALGM  30.040001  30.090000  30.014999  30.049999   \n",
       "2022-12-20 13:50:00   ALGM  29.969999  30.059999  29.969999  30.049999   \n",
       "2022-12-20 13:55:00   ALGM  29.940001  29.975000  29.879999  29.969999   \n",
       "2022-12-20 14:00:00   ALGM  29.990000  30.000000  29.920000  29.940001   \n",
       "\n",
       "                      Volume   slope  label  fast_mavg  slow_mavg  side  \n",
       "Date                                                                     \n",
       "2022-12-20 13:40:00   6801.0 -0.0375     -1  29.953695   29.78871   1.0  \n",
       "2022-12-20 13:45:00   5114.0 -0.0180     -1  29.960945   29.79951   1.0  \n",
       "2022-12-20 13:50:00  17844.0  0.0100      1  29.964445   29.81171   1.0  \n",
       "2022-12-20 13:55:00  16614.0  0.0300      1  29.966445   29.82151   1.0  \n",
       "2022-12-20 14:00:00   6640.0  0.0090      1  29.973195   29.83071   1.0  "
      ]
     },
     "execution_count": 23,
     "metadata": {},
     "output_type": "execute_result"
    }
   ],
   "source": [
    "# Save the raw data\n",
    "raw_data = df.drop(columns='Close').copy()\n",
    "\n",
    "raw_data.head()"
   ]
  },
  {
   "attachments": {},
   "cell_type": "markdown",
   "metadata": {},
   "source": [
    "#### Features"
   ]
  },
  {
   "cell_type": "code",
   "execution_count": 26,
   "metadata": {},
   "outputs": [],
   "source": [
    "# Log Returns\n",
    "raw_data['log_ret'] = np.log(raw_data['Adj Close']).diff()\n",
    "\n",
    "# Momentum\n",
    "raw_data['mom1'] = raw_data['Adj Close'].pct_change(periods=1)\n",
    "raw_data['mom2'] = raw_data['Adj Close'].pct_change(periods=2)\n",
    "raw_data['mom3'] = raw_data['Adj Close'].pct_change(periods=3)\n",
    "raw_data['mom4'] = raw_data['Adj Close'].pct_change(periods=4)\n",
    "raw_data['mom5'] = raw_data['Adj Close'].pct_change(periods=5)\n",
    "\n",
    "# Volatility\n",
    "raw_data['volatility_50'] = raw_data['log_ret'].rolling(window=50, min_periods=2, center=False).std()\n",
    "raw_data['volatility_31'] = raw_data['log_ret'].rolling(window=31, min_periods=2, center=False).std()\n",
    "raw_data['volatility_15'] = raw_data['log_ret'].rolling(window=15, min_periods=2, center=False).std()\n",
    "\n",
    "# Serial Correlation (Takes about 4 minutes)\n",
    "window_autocorr = 50\n",
    "\n",
    "raw_data['autocorr_1'] = raw_data['log_ret'].rolling(window=window_autocorr, min_periods=2, center=False).apply(lambda x: x.autocorr(lag=1), raw=False)\n",
    "raw_data['autocorr_2'] = raw_data['log_ret'].rolling(window=window_autocorr, min_periods=2, center=False).apply(lambda x: x.autocorr(lag=2), raw=False)\n",
    "raw_data['autocorr_3'] = raw_data['log_ret'].rolling(window=window_autocorr, min_periods=2, center=False).apply(lambda x: x.autocorr(lag=3), raw=False)\n",
    "raw_data['autocorr_4'] = raw_data['log_ret'].rolling(window=window_autocorr, min_periods=2, center=False).apply(lambda x: x.autocorr(lag=4), raw=False)\n",
    "raw_data['autocorr_5'] = raw_data['log_ret'].rolling(window=window_autocorr, min_periods=2, center=False).apply(lambda x: x.autocorr(lag=5), raw=False)\n",
    "\n",
    "# Get the various log -t returns\n",
    "raw_data['log_t1'] = raw_data['log_ret'].shift(1)\n",
    "raw_data['log_t2'] = raw_data['log_ret'].shift(2)\n",
    "raw_data['log_t3'] = raw_data['log_ret'].shift(3)\n",
    "raw_data['log_t4'] = raw_data['log_ret'].shift(4)\n",
    "raw_data['log_t5'] = raw_data['log_ret'].shift(5)"
   ]
  },
  {
   "cell_type": "code",
   "execution_count": null,
   "metadata": {},
   "outputs": [],
   "source": [
    "# # Re compute sides\n",
    "# raw_data['side'] = np.nan\n",
    "\n",
    "# long_signals = raw_data['fast_mavg'] >= raw_data['slow_mavg']\n",
    "# short_signals = raw_data['fast_mavg'] < raw_data['slow_mavg']\n",
    "\n",
    "# raw_data.loc[long_signals, 'side'] = 1\n",
    "# raw_data.loc[short_signals, 'side'] = -1"
   ]
  },
  {
   "cell_type": "code",
   "execution_count": 27,
   "metadata": {},
   "outputs": [],
   "source": [
    "# Remove look ahead bias\n",
    "raw_data = raw_data.shift(1)"
   ]
  },
  {
   "cell_type": "code",
   "execution_count": 28,
   "metadata": {},
   "outputs": [
    {
     "data": {
      "text/plain": [
       "Index(['Ticker', 'Adj Close', 'High', 'Low', 'Open', 'Volume', 'slope',\n",
       "       'label', 'fast_mavg', 'slow_mavg', 'side', 'log_ret', 'mom1', 'mom2',\n",
       "       'mom3', 'mom4', 'mom5', 'volatility_50', 'volatility_31',\n",
       "       'volatility_15', 'autocorr_1', 'autocorr_2', 'autocorr_3', 'autocorr_4',\n",
       "       'autocorr_5', 'log_t1', 'log_t2', 'log_t3', 'log_t4', 'log_t5'],\n",
       "      dtype='object')"
      ]
     },
     "execution_count": 28,
     "metadata": {},
     "output_type": "execute_result"
    }
   ],
   "source": [
    "raw_data.columns"
   ]
  },
  {
   "cell_type": "code",
   "execution_count": 29,
   "metadata": {},
   "outputs": [],
   "source": [
    "# serial correlation\n",
    "srl_corr = mkt.df_rolling_autocorr(mkt.returns(close), window=7).rename('srl_corr')\n",
    "\n",
    "# relative strength to SPY\n",
    "rs_SPY = mkt.get_relative_strength(df['Adj Close'], index_SPY['Adj Close']).shift(1).dropna()\n"
   ]
  },
  {
   "cell_type": "code",
   "execution_count": 30,
   "metadata": {},
   "outputs": [],
   "source": [
    "# fractional differentiated log dollar bar prices\n",
    "\n",
    "# cumulative sum of stock log-prices\n",
    "ticker_log_cumsum = np.log(dollar_bars.close).cumsum()\n",
    "\n",
    "# frac diff 1 time\n",
    "dfx1 = fdiff.frac_diff_ffd(ticker_log_cumsum.to_frame(), diff_amt=1).dropna()\n",
    "\n",
    "# apply cumsum filter\n",
    "dfx1_close = dfx1.close.copy()\n",
    "df_tEvents = flt.getTEvents(dfx1_close, h=dfx1.std().iat[0]*2)\n",
    "\n",
    "# fracDiff value feature\n",
    "frac_diff_feat = dfx1.loc[df_tEvents] \n"
   ]
  },
  {
   "cell_type": "code",
   "execution_count": 31,
   "metadata": {},
   "outputs": [],
   "source": [
    "features = (pd.DataFrame()\n",
    "            .assign(vol=events.trgt)\n",
    "            #.assign(side=clean_labels.side)\n",
    "            #.assign(srl_corr=srl_corr)\n",
    "            .assign(rs_SPY=rs_SPY)\n",
    "            #.assign(frac_diff_feat=frac_diff_feat)\n",
    "            .drop_duplicates()\n",
    "            .dropna())"
   ]
  },
  {
   "cell_type": "code",
   "execution_count": 32,
   "metadata": {},
   "outputs": [],
   "source": [
    "# Get features at event dates\n",
    "_X = raw_data.loc[clean_labels.index, :]"
   ]
  },
  {
   "cell_type": "code",
   "execution_count": 33,
   "metadata": {},
   "outputs": [],
   "source": [
    "# Drop unwanted columns\n",
    "_X.drop(['Ticker',\n",
    "        'Adj Close', 'High', 'Low', 'Open', 'Volume', \n",
    "        #'fast_mavg', 'slow_mavg', 'side', # remove for MA crossover\n",
    "        #'slope', 'label', # remove for trend scanning\n",
    "        ], axis=1, inplace=True)"
   ]
  },
  {
   "cell_type": "code",
   "execution_count": 34,
   "metadata": {},
   "outputs": [],
   "source": [
    "Xy = _X.join(features).join(clean_labels['bin']).dropna()"
   ]
  },
  {
   "cell_type": "code",
   "execution_count": 35,
   "metadata": {},
   "outputs": [],
   "source": [
    "X = Xy.iloc[:, :-1]\n",
    "y = Xy.iloc[:, -1]"
   ]
  },
  {
   "cell_type": "code",
   "execution_count": 36,
   "metadata": {},
   "outputs": [
    {
     "data": {
      "text/plain": [
       "0    329\n",
       "1     70\n",
       "Name: bin, dtype: int64"
      ]
     },
     "execution_count": 36,
     "metadata": {},
     "output_type": "execute_result"
    }
   ],
   "source": [
    "y.value_counts()"
   ]
  },
  {
   "cell_type": "code",
   "execution_count": 60,
   "metadata": {},
   "outputs": [],
   "source": [
    "RANDOM_STATE = 42\n",
    "\n",
    "X_train, X_test, y_train, y_test = train_test_split(X, y, test_size=0.7, shuffle=False)"
   ]
  },
  {
   "cell_type": "code",
   "execution_count": 61,
   "metadata": {},
   "outputs": [
    {
     "data": {
      "text/plain": [
       "Index(['slope', 'label', 'fast_mavg', 'slow_mavg', 'side', 'log_ret', 'mom1',\n",
       "       'mom2', 'mom3', 'mom4', 'mom5', 'volatility_50', 'volatility_31',\n",
       "       'volatility_15', 'autocorr_1', 'autocorr_2', 'autocorr_3', 'autocorr_4',\n",
       "       'autocorr_5', 'log_t1', 'log_t2', 'log_t3', 'log_t4', 'log_t5', 'vol',\n",
       "       'rs_SPY', 'bin'],\n",
       "      dtype='object')"
      ]
     },
     "execution_count": 61,
     "metadata": {},
     "output_type": "execute_result"
    }
   ],
   "source": [
    "Xy.columns"
   ]
  },
  {
   "attachments": {},
   "cell_type": "markdown",
   "metadata": {},
   "source": [
    "## Sample Weights"
   ]
  },
  {
   "cell_type": "code",
   "execution_count": 62,
   "metadata": {},
   "outputs": [
    {
     "name": "stderr",
     "output_type": "stream",
     "text": [
      "2023-03-20 15:43:40.482677 100.0% num_concurrent_events done after 0.01 minutes. Remaining 0.0 minutes.\n",
      "2023-03-20 15:43:41.551755 100.0% _apply_weight_by_return done after 0.01 minutes. Remaining 0.0 minutes.\n",
      "2023-03-20 15:43:42.744489 100.0% num_concurrent_events done after 0.02 minutes. Remaining 0.0 minutes.\n",
      "2023-03-20 15:43:43.821173 100.0% _get_average_uniqueness done after 0.01 minutes. Remaining 0.0 minutes.\n"
     ]
    }
   ],
   "source": [
    "return_based_sample_weights = get_weights_by_return(events.loc[X_train.index], df.loc[X_train.index, 'Adj Close'])\n",
    "time_based_sample_weights = get_weights_by_time_decay(events.loc[X_train.index], df.loc[X_train.index, 'Adj Close'], decay=0.5)"
   ]
  },
  {
   "cell_type": "code",
   "execution_count": 63,
   "metadata": {},
   "outputs": [
    {
     "data": {
      "image/png": "[encoded data removed]",
      "text/plain": [
       "<Figure size 1000x400 with 1 Axes>"
      ]
     },
     "metadata": {},
     "output_type": "display_data"
    }
   ],
   "source": [
    "plt.figure(figsize=(10,4))\n",
    "plt.title('Return based sample weights')\n",
    "return_based_sample_weights.plot()\n",
    "plt.show()"
   ]
  },
  {
   "cell_type": "code",
   "execution_count": 64,
   "metadata": {},
   "outputs": [
    {
     "data": {
      "image/png": "[encoded data removed]",
      "text/plain": [
       "<Figure size 1000x400 with 1 Axes>"
      ]
     },
     "metadata": {},
     "output_type": "display_data"
    }
   ],
   "source": [
    "plt.figure(figsize=(10,4))\n",
    "plt.title('Time decaying sample weights')\n",
    "time_based_sample_weights.plot()\n",
    "plt.show()"
   ]
  },
  {
   "attachments": {},
   "cell_type": "markdown",
   "metadata": {},
   "source": [
    "## Cross-Validation "
   ]
  },
  {
   "cell_type": "code",
   "execution_count": 104,
   "metadata": {},
   "outputs": [],
   "source": [
    "from sklearn.svm import SVC"
   ]
  },
  {
   "cell_type": "code",
   "execution_count": 105,
   "metadata": {},
   "outputs": [],
   "source": [
    "parameters = {'max_depth':[2, 3, 4, 5, 7],\n",
    "              'n_estimators':[10, 25, 50, 100, 256, 512],\n",
    "              'C':[1,10,100,1000],\n",
    "              'gamma':[1,0.1,0.001,0.0001], \n",
    "              }"
   ]
  },
  {
   "cell_type": "code",
   "execution_count": 106,
   "metadata": {},
   "outputs": [],
   "source": [
    "cv_gen_standard = KFold(4)\n",
    "cv_gen_purged = PurgedKFold(n_splits=4, samples_info_sets=events.loc[X_train.index].t1)"
   ]
  },
  {
   "cell_type": "code",
   "execution_count": 115,
   "metadata": {},
   "outputs": [],
   "source": [
    "def perform_grid_search(X_data, y_data, cv_gen, scoring, parameters, type='standard', sample_weight=None):\n",
    "    \"\"\"\n",
    "    Grid search using Purged CV without using sample weights in fit(). Returns top model and top score\n",
    "    \"\"\"\n",
    "    max_cross_val_score = -np.inf\n",
    "    top_model = None\n",
    "\n",
    "    if type=='SVC' or type=='seq_boot_SVC':\n",
    "        for C in parameters['C']:\n",
    "            for gamma in parameters['gamma']:\n",
    "                clf_SVC = SVC(C=C,\n",
    "                                gamma=gamma,\n",
    "                                class_weight='balanced',\n",
    "                                kernel='linear',\n",
    "                                random_state=RANDOM_STATE\n",
    "                )\n",
    "\n",
    "                if type =='SVC':\n",
    "                    clf = clf_SVC\n",
    "                elif type == 'seq_boot_SVC':\n",
    "                    clf = SequentiallyBootstrappedBaggingClassifier(samples_info_sets=events.loc[X_train.index].t1, ## events\n",
    "                                                                price_bars = dollar_bars.loc[X_train.index.min():X_train.index.max(), 'close'], ## df\n",
    "                                                                estimator=clf_SVC, \n",
    "                                                                random_state=42, n_jobs=-1, oob_score=False,\n",
    "                                                                max_features=1.)\n",
    "                temp_score_base = ml_cross_val_score(clf, X_data, y_data, cv_gen, scoring=scoring, sample_weight=sample_weight)\n",
    "                if temp_score_base.mean() > max_cross_val_score:\n",
    "                    max_cross_val_score = temp_score_base.mean()\n",
    "                    print(temp_score_base.mean())\n",
    "                    top_model = clf\n",
    "\n",
    "    else:    \n",
    "        for m_depth in parameters['max_depth']:\n",
    "            for n_est in parameters['n_estimators']:\n",
    "                clf_base = DecisionTreeClassifier(criterion='entropy', random_state=42, \n",
    "                                                max_depth=m_depth, class_weight='balanced')\n",
    "\n",
    "                if type == 'standard':\n",
    "                    clf = BaggingClassifier(n_estimators=n_est, \n",
    "                                            estimator=clf_base, \n",
    "                                            random_state=42, n_jobs=-1, \n",
    "                                            oob_score=False, max_features=1.)\n",
    "                elif type == 'random_forest':\n",
    "                    clf = RandomForestClassifier(n_estimators=n_est, \n",
    "                                                max_depth=m_depth, \n",
    "                                                random_state=42, \n",
    "                                                n_jobs=-1, \n",
    "                                                oob_score=False, \n",
    "                                                criterion='entropy',\n",
    "                                                class_weight='balanced_subsample', \n",
    "                                                max_features=1.)\n",
    "                elif type == 'sequential_bootstrapping':\n",
    "                    clf = SequentiallyBootstrappedBaggingClassifier(samples_info_sets=events.loc[X_train.index].t1, ## events\n",
    "                                                                    price_bars = dollar_bars.loc[X_train.index.min():X_train.index.max(), 'close'], ## df\n",
    "                                                                    n_estimators=n_est, estimator=clf_base, \n",
    "                                                                    random_state=42, n_jobs=-1, oob_score=False,\n",
    "                                                                    max_features=1.)\n",
    "                temp_score_base = ml_cross_val_score(clf, X_data, y_data, cv_gen, scoring=scoring, sample_weight=sample_weight)\n",
    "                if temp_score_base.mean() > max_cross_val_score:\n",
    "                    max_cross_val_score = temp_score_base.mean()\n",
    "                    print(temp_score_base.mean())\n",
    "                    top_model = clf\n",
    "    return top_model, max_cross_val_score"
   ]
  },
  {
   "cell_type": "code",
   "execution_count": 50,
   "metadata": {},
   "outputs": [],
   "source": [
    "warnings.filterwarnings('ignore')"
   ]
  },
  {
   "cell_type": "code",
   "execution_count": 93,
   "metadata": {},
   "outputs": [
    {
     "name": "stdout",
     "output_type": "stream",
     "text": [
      "0.05555555555555556\n",
      "BaggingClassifier(estimator=DecisionTreeClassifier(class_weight='balanced',\n",
      "                                                   criterion='entropy',\n",
      "                                                   max_depth=2,\n",
      "                                                   random_state=42),\n",
      "                  n_jobs=-1, random_state=42) 0.05555555555555556\n"
     ]
    }
   ],
   "source": [
    "top_model, cross_val_score = perform_grid_search(X_train, y_train, cv_gen_purged, 'f1', parameters, type = 'standard')\n",
    "print(top_model, cross_val_score)"
   ]
  },
  {
   "cell_type": "code",
   "execution_count": 94,
   "metadata": {},
   "outputs": [
    {
     "name": "stdout",
     "output_type": "stream",
     "text": [
      "0.03837084930279906\n",
      "0.06126753418249009\n",
      "0.12335091841497187\n",
      "BaggingClassifier(estimator=DecisionTreeClassifier(class_weight='balanced',\n",
      "                                                   criterion='entropy',\n",
      "                                                   max_depth=2,\n",
      "                                                   random_state=42),\n",
      "                  n_estimators=256, n_jobs=-1, random_state=42) 0.12335091841497187\n"
     ]
    }
   ],
   "source": [
    "top_model, cross_val_score = perform_grid_search(X_train, y_train, cv_gen_purged, 'f1', parameters, type = 'standard', \n",
    "                                                 sample_weight=return_based_sample_weights.values)\n",
    "print(top_model, cross_val_score)"
   ]
  },
  {
   "cell_type": "code",
   "execution_count": 47,
   "metadata": {},
   "outputs": [
    {
     "name": "stdout",
     "output_type": "stream",
     "text": [
      "0.10311673869127287\n",
      "BaggingClassifier(estimator=DecisionTreeClassifier(class_weight='balanced',\n",
      "                                                   criterion='entropy',\n",
      "                                                   max_depth=2,\n",
      "                                                   random_state=42),\n",
      "                  n_jobs=-1, random_state=42) 0.10311673869127287\n"
     ]
    }
   ],
   "source": [
    "top_model, cross_val_score = perform_grid_search_sample_weights(X_train, y_train, cv_gen_purged, 'f1', type = 'standard')\n",
    "print(top_model, cross_val_score)"
   ]
  },
  {
   "cell_type": "code",
   "execution_count": 48,
   "metadata": {},
   "outputs": [
    {
     "name": "stdout",
     "output_type": "stream",
     "text": [
      "0.1277777777777778\n",
      "RandomForestClassifier(class_weight='balanced_subsample', criterion='entropy',\n",
      "                       max_depth=2, max_features=1.0, n_estimators=10,\n",
      "                       n_jobs=-1, random_state=42) 0.1277777777777778\n"
     ]
    }
   ],
   "source": [
    "top_model, cross_val_score = perform_grid_search(X_train, y_train, cv_gen_purged, 'f1', type = 'random_forest')\n",
    "print(top_model, cross_val_score)"
   ]
  },
  {
   "cell_type": "code",
   "execution_count": 49,
   "metadata": {},
   "outputs": [
    {
     "name": "stdout",
     "output_type": "stream",
     "text": [
      "0.039105758061931964\n",
      "RandomForestClassifier(class_weight='balanced_subsample', criterion='entropy',\n",
      "                       max_depth=2, max_features=1.0, n_estimators=10,\n",
      "                       n_jobs=-1, random_state=42) 0.039105758061931964\n"
     ]
    }
   ],
   "source": [
    "top_model, cross_val_score = perform_grid_search_sample_weights(X_train, y_train, cv_gen_purged, 'f1', type = 'random_forest')\n",
    "print(top_model, cross_val_score)"
   ]
  },
  {
   "cell_type": "code",
   "execution_count": 116,
   "metadata": {},
   "outputs": [
    {
     "name": "stdout",
     "output_type": "stream",
     "text": [
      "0.15604736801037314\n",
      "SVC(C=1, class_weight='balanced', gamma=1, kernel='linear', random_state=42) 0.15604736801037314\n"
     ]
    }
   ],
   "source": [
    "top_model, cross_val_score = perform_grid_search(X_train, y_train, cv_gen_purged, 'f1', parameters, \n",
    "                                                 type = 'SVC',\n",
    "                                                 sample_weight=return_based_sample_weights.values\n",
    "                                                 )\n",
    "print(top_model, cross_val_score)"
   ]
  },
  {
   "cell_type": "code",
   "execution_count": 117,
   "metadata": {},
   "outputs": [
    {
     "name": "stdout",
     "output_type": "stream",
     "text": [
      "0.015535941738574406\n",
      "0.17035214627909595\n",
      "SequentiallyBootstrappedBaggingClassifier(estimator=SVC(C=10,\n",
      "                                                        class_weight='balanced',\n",
      "                                                        gamma=1,\n",
      "                                                        kernel='linear',\n",
      "                                                        random_state=42),\n",
      "                                          n_jobs=-1,\n",
      "                                          price_bars=time\n",
      "2022-12-22 10:10:00    29.522100\n",
      "2022-12-22 10:15:00    29.590000\n",
      "2022-12-22 10:20:00    29.559999\n",
      "2022-12-22 10:25:00    29.570000\n",
      "2022-12-22 10:30:00    29.570000\n",
      "                         ...    \n",
      "2023-01-26 13:15:00    34.899101\n",
      "2023-01-26 13:20:00    34.919899\n",
      "2023-01...\n",
      "2022-12-22 11:30:00   2022-12-22 15:15:00\n",
      "2022-12-22 14:05:00   2022-12-23 14:05:00\n",
      "2022-12-22 14:55:00   2022-12-23 15:00:00\n",
      "2022-12-22 15:15:00   2022-12-23 15:15:00\n",
      "                              ...        \n",
      "2023-01-26 11:55:00   2023-01-26 15:35:00\n",
      "2023-01-26 12:20:00   2023-01-26 14:15:00\n",
      "2023-01-26 13:00:00   2023-01-27 13:00:00\n",
      "2023-01-26 13:20:00   2023-01-27 09:45:00\n",
      "2023-01-26 13:35:00   2023-01-27 13:35:00\n",
      "Name: t1, Length: 119, dtype: datetime64[ns]) 0.17035214627909595\n"
     ]
    }
   ],
   "source": [
    "top_model, cross_val_score = perform_grid_search(X_train, y_train, cv_gen_purged, 'f1', parameters, \n",
    "                                                 type = 'seq_boot_SVC',\n",
    "                                                 sample_weight=return_based_sample_weights.values\n",
    "                                                 )\n",
    "print(top_model, cross_val_score)"
   ]
  },
  {
   "cell_type": "code",
   "execution_count": null,
   "metadata": {},
   "outputs": [],
   "source": [
    "top_model, cross_val_score = perform_grid_search(X_train, y_train, cv_gen_purged, 'f1', parameters, \n",
    "                                                 type = 'SVC',\n",
    "                                                 #sample_weight=return_based_sample_weights.values\n",
    "                                                 )\n",
    "print(top_model, cross_val_score)"
   ]
  },
  {
   "cell_type": "code",
   "execution_count": null,
   "metadata": {},
   "outputs": [],
   "source": [
    "top_model, cross_val_score = perform_grid_search(X_train, y_train, cv_gen_purged, 'f1', parameters, \n",
    "                                                 type = 'seq_boot_SVC',\n",
    "                                                 #sample_weight=return_based_sample_weights.values\n",
    "                                                 )\n",
    "print(top_model, cross_val_score)"
   ]
  },
  {
   "cell_type": "code",
   "execution_count": 51,
   "metadata": {},
   "outputs": [
    {
     "name": "stdout",
     "output_type": "stream",
     "text": [
      "0.057189542483660136\n",
      "0.0839160839160839\n",
      "SequentiallyBootstrappedBaggingClassifier(estimator=DecisionTreeClassifier(class_weight='balanced',\n",
      "                                                                           criterion='entropy',\n",
      "                                                                           max_depth=4,\n",
      "                                                                           random_state=42),\n",
      "                                          n_jobs=-1,\n",
      "                                          price_bars=time\n",
      "2022-12-22 10:10:00    29.522100\n",
      "2022-12-22 10:15:00    29.590000\n",
      "2022-12-22 10:20:00    29.559999\n",
      "2022-12-22 10:25:00    29.570000\n",
      "2022-12-22 10:30:00    29.570000\n",
      "                         ...    \n",
      "2023-02-03 09:30:00    40.650002\n",
      "2023-02-03 09...\n",
      "2022-12-22 11:30:00   2022-12-22 15:15:00\n",
      "2022-12-22 14:05:00   2022-12-23 14:05:00\n",
      "2022-12-22 14:55:00   2022-12-23 15:00:00\n",
      "2022-12-22 15:15:00   2022-12-23 15:15:00\n",
      "                              ...        \n",
      "2023-02-02 15:25:00   2023-02-03 10:35:00\n",
      "2023-02-02 15:45:00   2023-02-03 15:45:00\n",
      "2023-02-02 15:50:00   2023-02-03 10:35:00\n",
      "2023-02-03 09:30:00   2023-02-06 09:30:00\n",
      "2023-02-03 09:50:00   2023-02-06 09:30:00\n",
      "Name: t1, Length: 199, dtype: datetime64[ns]) 0.0839160839160839\n"
     ]
    }
   ],
   "source": [
    "top_model, cross_val_score = perform_grid_search(X_train, y_train, cv_gen_purged, 'f1', \n",
    "                                                 type = 'sequential_bootstrapping')\n",
    "print(top_model, cross_val_score)"
   ]
  },
  {
   "cell_type": "code",
   "execution_count": 52,
   "metadata": {},
   "outputs": [
    {
     "name": "stdout",
     "output_type": "stream",
     "text": [
      "0.1055865685885087\n",
      "SequentiallyBootstrappedBaggingClassifier(estimator=DecisionTreeClassifier(class_weight='balanced',\n",
      "                                                                           criterion='entropy',\n",
      "                                                                           max_depth=2,\n",
      "                                                                           random_state=42),\n",
      "                                          n_jobs=-1,\n",
      "                                          price_bars=time\n",
      "2022-12-22 10:10:00    29.522100\n",
      "2022-12-22 10:15:00    29.590000\n",
      "2022-12-22 10:20:00    29.559999\n",
      "2022-12-22 10:25:00    29.570000\n",
      "2022-12-22 10:30:00    29.570000\n",
      "                         ...    \n",
      "2023-02-03 09:30:00    40.650002\n",
      "2023-02-03 09...\n",
      "2022-12-22 11:30:00   2022-12-22 15:15:00\n",
      "2022-12-22 14:05:00   2022-12-23 14:05:00\n",
      "2022-12-22 14:55:00   2022-12-23 15:00:00\n",
      "2022-12-22 15:15:00   2022-12-23 15:15:00\n",
      "                              ...        \n",
      "2023-02-02 15:25:00   2023-02-03 10:35:00\n",
      "2023-02-02 15:45:00   2023-02-03 15:45:00\n",
      "2023-02-02 15:50:00   2023-02-03 10:35:00\n",
      "2023-02-03 09:30:00   2023-02-06 09:30:00\n",
      "2023-02-03 09:50:00   2023-02-06 09:30:00\n",
      "Name: t1, Length: 199, dtype: datetime64[ns]) 0.1055865685885087\n"
     ]
    }
   ],
   "source": [
    "top_model, cross_val_score = perform_grid_search_sample_weights(X_train, y_train, cv_gen_purged, 'f1', type = 'sequential_bootstrapping')\n",
    "print(top_model, cross_val_score)"
   ]
  },
  {
   "cell_type": "code",
   "execution_count": 119,
   "metadata": {},
   "outputs": [
    {
     "ename": "AttributeError",
     "evalue": "'SequentiallyBootstrappedBaggingClassifier' object has no attribute 'coef_'",
     "output_type": "error",
     "traceback": [
      "\u001b[1;31m---------------------------------------------------------------------------\u001b[0m",
      "\u001b[1;31mAttributeError\u001b[0m                            Traceback (most recent call last)",
      "Cell \u001b[1;32mIn[119], line 1\u001b[0m\n\u001b[1;32m----> 1\u001b[0m top_model\u001b[39m.\u001b[39;49mcoef_\n",
      "\u001b[1;31mAttributeError\u001b[0m: 'SequentiallyBootstrappedBaggingClassifier' object has no attribute 'coef_'"
     ]
    }
   ],
   "source": [
    "top_model.coef_\n"
   ]
  },
  {
   "attachments": {},
   "cell_type": "markdown",
   "metadata": {},
   "source": [
    "## Feature Importance"
   ]
  },
  {
   "attachments": {},
   "cell_type": "markdown",
   "metadata": {},
   "source": [
    "The SVC classifier does not provide a direct wat to obtain feature importances. However, we can use the coefficients of the hyperplane that seperates the classes to estimate the importance of each feature. The magnitude of the coefficient corresponds to the importance of the corresponding feature in the classification."
   ]
  },
  {
   "cell_type": "code",
   "execution_count": 76,
   "metadata": {},
   "outputs": [
    {
     "ename": "AttributeError",
     "evalue": "'SVC' object has no attribute 'feature_importances_'",
     "output_type": "error",
     "traceback": [
      "\u001b[1;31m---------------------------------------------------------------------------\u001b[0m",
      "\u001b[1;31mAttributeError\u001b[0m                            Traceback (most recent call last)",
      "Cell \u001b[1;32mIn[76], line 2\u001b[0m\n\u001b[0;32m      1\u001b[0m \u001b[39m# MDI, MDA, SFI feature importance\u001b[39;00m\n\u001b[1;32m----> 2\u001b[0m mdi_feat_imp \u001b[39m=\u001b[39m mean_decrease_impurity(top_model, X_train\u001b[39m.\u001b[39;49mcolumns)\n\u001b[0;32m      3\u001b[0m mda_feat_imp \u001b[39m=\u001b[39m mean_decrease_accuracy(top_model, X_train, y_train, cv_gen_purged, scoring\u001b[39m=\u001b[39m\u001b[39m'\u001b[39m\u001b[39mf1\u001b[39m\u001b[39m'\u001b[39m, \n\u001b[0;32m      4\u001b[0m                                                          sample_weight\u001b[39m=\u001b[39mreturn_based_sample_weights\u001b[39m.\u001b[39mvalues)\n\u001b[0;32m      5\u001b[0m sfi_feat_imp \u001b[39m=\u001b[39m single_feature_importance(top_model, X_train, y_train, cv_gen_purged, scoring\u001b[39m=\u001b[39m\u001b[39m'\u001b[39m\u001b[39mf1\u001b[39m\u001b[39m'\u001b[39m,\n\u001b[0;32m      6\u001b[0m                                      sample_weight\u001b[39m=\u001b[39mreturn_based_sample_weights\u001b[39m.\u001b[39mvalues)\n",
      "File \u001b[1;32mc:\\Users\\choit\\OneDrive\\Coursera\\SIADS699\\capstone_git\\MADS_Capstone\\afml\\feature_importance\\importance.py:48\u001b[0m, in \u001b[0;36mmean_decrease_impurity\u001b[1;34m(model, feature_names)\u001b[0m\n\u001b[0;32m     17\u001b[0m \u001b[39m\u001b[39m\u001b[39m\"\"\"\u001b[39;00m\n\u001b[0;32m     18\u001b[0m \u001b[39mSnippet 8.2, page 115. MDI Feature importance\u001b[39;00m\n\u001b[0;32m     19\u001b[0m \n\u001b[1;32m   (...)\u001b[0m\n\u001b[0;32m     45\u001b[0m \u001b[39m:return: (pd.DataFrame): Mean and standard deviation feature importance.\u001b[39;00m\n\u001b[0;32m     46\u001b[0m \u001b[39m\"\"\"\u001b[39;00m\n\u001b[0;32m     47\u001b[0m \u001b[39m# Feature importance based on in-sample (IS) mean impurity reduction\u001b[39;00m\n\u001b[1;32m---> 48\u001b[0m feature_imp_df \u001b[39m=\u001b[39m {i: tree\u001b[39m.\u001b[39mfeature_importances_ \u001b[39mfor\u001b[39;00m i, tree \u001b[39min\u001b[39;00m \u001b[39menumerate\u001b[39m(model\u001b[39m.\u001b[39mestimators_)}\n\u001b[0;32m     49\u001b[0m feature_imp_df \u001b[39m=\u001b[39m pd\u001b[39m.\u001b[39mDataFrame\u001b[39m.\u001b[39mfrom_dict(feature_imp_df, orient\u001b[39m=\u001b[39m\u001b[39m'\u001b[39m\u001b[39mindex\u001b[39m\u001b[39m'\u001b[39m)\n\u001b[0;32m     50\u001b[0m feature_imp_df\u001b[39m.\u001b[39mcolumns \u001b[39m=\u001b[39m feature_names\n",
      "File \u001b[1;32mc:\\Users\\choit\\OneDrive\\Coursera\\SIADS699\\capstone_git\\MADS_Capstone\\afml\\feature_importance\\importance.py:48\u001b[0m, in \u001b[0;36m<dictcomp>\u001b[1;34m(.0)\u001b[0m\n\u001b[0;32m     17\u001b[0m \u001b[39m\u001b[39m\u001b[39m\"\"\"\u001b[39;00m\n\u001b[0;32m     18\u001b[0m \u001b[39mSnippet 8.2, page 115. MDI Feature importance\u001b[39;00m\n\u001b[0;32m     19\u001b[0m \n\u001b[1;32m   (...)\u001b[0m\n\u001b[0;32m     45\u001b[0m \u001b[39m:return: (pd.DataFrame): Mean and standard deviation feature importance.\u001b[39;00m\n\u001b[0;32m     46\u001b[0m \u001b[39m\"\"\"\u001b[39;00m\n\u001b[0;32m     47\u001b[0m \u001b[39m# Feature importance based on in-sample (IS) mean impurity reduction\u001b[39;00m\n\u001b[1;32m---> 48\u001b[0m feature_imp_df \u001b[39m=\u001b[39m {i: tree\u001b[39m.\u001b[39;49mfeature_importances_ \u001b[39mfor\u001b[39;00m i, tree \u001b[39min\u001b[39;00m \u001b[39menumerate\u001b[39m(model\u001b[39m.\u001b[39mestimators_)}\n\u001b[0;32m     49\u001b[0m feature_imp_df \u001b[39m=\u001b[39m pd\u001b[39m.\u001b[39mDataFrame\u001b[39m.\u001b[39mfrom_dict(feature_imp_df, orient\u001b[39m=\u001b[39m\u001b[39m'\u001b[39m\u001b[39mindex\u001b[39m\u001b[39m'\u001b[39m)\n\u001b[0;32m     50\u001b[0m feature_imp_df\u001b[39m.\u001b[39mcolumns \u001b[39m=\u001b[39m feature_names\n",
      "\u001b[1;31mAttributeError\u001b[0m: 'SVC' object has no attribute 'feature_importances_'"
     ]
    }
   ],
   "source": [
    "# MDI, MDA, SFI feature importance\n",
    "mdi_feat_imp = mean_decrease_impurity(top_model, X_train.columns)\n",
    "mda_feat_imp = mean_decrease_accuracy(top_model, X_train, y_train, cv_gen_purged, scoring='f1', \n",
    "                                                         sample_weight=return_based_sample_weights.values)\n",
    "sfi_feat_imp = single_feature_importance(top_model, X_train, y_train, cv_gen_purged, scoring='f1',\n",
    "                                     sample_weight=return_based_sample_weights.values)"
   ]
  },
  {
   "cell_type": "code",
   "execution_count": null,
   "metadata": {},
   "outputs": [],
   "source": [
    "plot_feature_importance(mdi_feat_imp, 0, 0)"
   ]
  },
  {
   "cell_type": "code",
   "execution_count": null,
   "metadata": {},
   "outputs": [],
   "source": [
    "plot_feature_importance(mda_feat_imp, 0, 0)"
   ]
  },
  {
   "cell_type": "code",
   "execution_count": null,
   "metadata": {},
   "outputs": [],
   "source": [
    "plot_feature_importance(sfi_feat_imp, 0, 0)"
   ]
  },
  {
   "attachments": {},
   "cell_type": "markdown",
   "metadata": {},
   "source": [
    "## Fitting Top Model"
   ]
  },
  {
   "cell_type": "code",
   "execution_count": null,
   "metadata": {},
   "outputs": [],
   "source": [
    "y_pred_rf = top_model.predict_proba(X_test)[:, 1]\n",
    "y_pred = top_model.predict(X_test)\n",
    "fpr_rf, tpr_rf, _ = roc_curve(y_test, y_pred_rf)\n",
    "\n",
    "print(classification_report(y_test, y_pred))\n",
    "print(confusion_matrix(y_test, y_pred))\n",
    "print(accuracy_score(y_test, y_pred))\n",
    "\n",
    "plt.figure(1)\n",
    "plt.plot([0, 1], [0, 1], 'k--')\n",
    "plt.plot(fpr_rf, tpr_rf, label='RF')\n",
    "plt.xlabel('False positive rate')\n",
    "plt.ylabel('True positive rate')\n",
    "plt.title('ROC curve')\n",
    "plt.legend(loc='best')\n",
    "plt.show()"
   ]
  },
  {
   "cell_type": "code",
   "execution_count": null,
   "metadata": {},
   "outputs": [],
   "source": [
    "n_estimator = 10000\n",
    "rf = RandomForestClassifier(max_depth=2, \n",
    "                            n_estimators=n_estimator,\n",
    "                            criterion='entropy', \n",
    "                            class_weight='balanced',\n",
    "                            random_state=RANDOM_STATE)\n",
    "rf.fit(X_train, y_train)\n",
    "\n",
    "# The random forest model by itself\n",
    "y_pred_rf = rf.predict_proba(X_test)[:, 1]\n",
    "y_pred = rf.predict(X_test)\n",
    "fpr_rf, tpr_rf, _ = roc_curve(y_test, y_pred_rf)\n",
    "print(classification_report(y_test, y_pred))\n",
    "print(confusion_matrix(y_test, y_pred))\n",
    "print(accuracy_score(y_test, y_pred))\n",
    "\n",
    "plt.figure(1)\n",
    "plt.plot([0, 1], [0, 1], 'k--')\n",
    "plt.plot(fpr_rf, tpr_rf, label='RF')\n",
    "plt.xlabel('False positive rate')\n",
    "plt.ylabel('True positive rate')\n",
    "plt.title('ROC curve')\n",
    "plt.legend(loc='best')\n",
    "plt.show()"
   ]
  },
  {
   "cell_type": "code",
   "execution_count": null,
   "metadata": {},
   "outputs": [],
   "source": [
    "top_model"
   ]
  },
  {
   "attachments": {},
   "cell_type": "markdown",
   "metadata": {},
   "source": [
    "## Backtest"
   ]
  },
  {
   "cell_type": "code",
   "execution_count": null,
   "metadata": {},
   "outputs": [],
   "source": [
    "y_pred"
   ]
  },
  {
   "cell_type": "code",
   "execution_count": null,
   "metadata": {},
   "outputs": [],
   "source": []
  },
  {
   "cell_type": "code",
   "execution_count": null,
   "metadata": {},
   "outputs": [],
   "source": []
  }
 ],
 "metadata": {
  "kernelspec": {
   "display_name": "env1",
   "language": "python",
   "name": "python3"
  },
  "language_info": {
   "codemirror_mode": {
    "name": "ipython",
    "version": 3
   },
   "file_extension": ".py",
   "mimetype": "text/x-python",
   "name": "python",
   "nbconvert_exporter": "python",
   "pygments_lexer": "ipython3",
   "version": "3.10.10"
  },
  "orig_nbformat": 4
 },
 "nbformat": 4,
 "nbformat_minor": 2
}
