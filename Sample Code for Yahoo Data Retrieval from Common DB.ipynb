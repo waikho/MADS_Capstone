{
 "cells": [
  {
   "cell_type": "code",
   "execution_count": 12,
   "id": "34b46577",
   "metadata": {},
   "outputs": [],
   "source": [
    "#!pip3 install \"psycopg[binary]\""
   ]
  },
  {
   "cell_type": "code",
   "execution_count": 32,
   "id": "1836eb52",
   "metadata": {},
   "outputs": [],
   "source": [
    "import config\n",
    "import psycopg\n",
    "import pandas as pd\n",
    "from psycopg.rows import dict_row"
   ]
  },
  {
   "cell_type": "code",
   "execution_count": 33,
   "id": "e27062cb",
   "metadata": {},
   "outputs": [],
   "source": [
    "def pgDictToConn(secretDict):\n",
    "    pgStrs = []\n",
    "    for key in secretDict:\n",
    "        pgStrs.append('{}={}'.format(key, secretDict[key]))\n",
    "    return ' '.join(pgStrs)\n"
   ]
  },
  {
   "cell_type": "code",
   "execution_count": 34,
   "id": "b2188c95",
   "metadata": {},
   "outputs": [],
   "source": [
    "#Init\n",
    "pgConnStr = pgDictToConn(config.pgSecrets)"
   ]
  },
  {
   "cell_type": "code",
   "execution_count": 24,
   "id": "429737f0",
   "metadata": {},
   "outputs": [],
   "source": [
    "def getTicker(symbol):\n",
    "    with psycopg.connect(pgConnStr) as conn:\n",
    "        with conn.cursor(row_factory=dict_row) as cur:\n",
    "            stmt = '''SELECT * FROM yfinance_daily WHERE ticker = %s'''\n",
    "            data = (symbol, )\n",
    "            result = cur.execute(stmt, data).fetchall()\n",
    "            desc = cur.description\n",
    "            cols = [col[0] for col in desc]\n",
    "            conn.commit()\n",
    "    return pd.DataFrame(data=result, columns=cols)"
   ]
  },
  {
   "cell_type": "code",
   "execution_count": 43,
   "id": "928a493c",
   "metadata": {},
   "outputs": [],
   "source": [
    "def getTickerList():\n",
    "    with psycopg.connect(pgConnStr) as conn:\n",
    "        with conn.cursor(row_factory=dict_row) as cur:\n",
    "            stmt = '''SELECT DISTINCT ticker FROM yfinance_daily ORDER BY ticker'''\n",
    "            result = cur.execute(stmt).fetchall()\n",
    "            conn.commit()\n",
    "            return [row['ticker'] for row in result]"
   ]
  },
  {
   "cell_type": "code",
   "execution_count": null,
   "id": "3ca7cb17",
   "metadata": {},
   "outputs": [],
   "source": [
    "def getAllData():\n",
    "    with psycopg.connect(pgConnStr) as conn:\n",
    "        with conn.cursor(row_factory=dict_row) as cur:\n",
    "            stmt = '''SELECT * FROM yfinance_daily ORDER By ticker, datetime'''\n",
    "            result = cur.execute(stmt).fetchall()\n",
    "            desc = cur.description\n",
    "            cols = [col[0] for col in desc]\n",
    "            conn.commit()\n",
    "    return pd.DataFrame(data=result, columns=cols)"
   ]
  },
  {
   "cell_type": "code",
   "execution_count": 46,
   "id": "fa221fb9",
   "metadata": {},
   "outputs": [
    {
     "data": {
      "text/plain": [
       "['AAPL', 'AMZN', 'GOOG', 'GOOGL', 'MSFT']"
      ]
     },
     "execution_count": 46,
     "metadata": {},
     "output_type": "execute_result"
    }
   ],
   "source": [
    "#Get List of all tickers\n",
    "getTickerList()\n"
   ]
  },
  {
   "cell_type": "code",
   "execution_count": 45,
   "id": "ec831d52",
   "metadata": {},
   "outputs": [
    {
     "data": {
      "text/html": [
       "<div>\n",
       "<style scoped>\n",
       "    .dataframe tbody tr th:only-of-type {\n",
       "        vertical-align: middle;\n",
       "    }\n",
       "\n",
       "    .dataframe tbody tr th {\n",
       "        vertical-align: top;\n",
       "    }\n",
       "\n",
       "    .dataframe thead th {\n",
       "        text-align: right;\n",
       "    }\n",
       "</style>\n",
       "<table border=\"1\" class=\"dataframe\">\n",
       "  <thead>\n",
       "    <tr style=\"text-align: right;\">\n",
       "      <th></th>\n",
       "      <th>id</th>\n",
       "      <th>ticker</th>\n",
       "      <th>datetime</th>\n",
       "      <th>high</th>\n",
       "      <th>low</th>\n",
       "      <th>close</th>\n",
       "      <th>vol</th>\n",
       "      <th>dividend</th>\n",
       "      <th>split</th>\n",
       "      <th>gain</th>\n",
       "      <th>open</th>\n",
       "    </tr>\n",
       "  </thead>\n",
       "  <tbody>\n",
       "    <tr>\n",
       "      <th>98</th>\n",
       "      <td>348</td>\n",
       "      <td>GOOG</td>\n",
       "      <td>2023-01-26</td>\n",
       "      <td>99.209999</td>\n",
       "      <td>96.820000</td>\n",
       "      <td>99.160004</td>\n",
       "      <td>24542100</td>\n",
       "      <td>0.0</td>\n",
       "      <td>0.0</td>\n",
       "      <td>nan</td>\n",
       "      <td>98.279999</td>\n",
       "    </tr>\n",
       "    <tr>\n",
       "      <th>114</th>\n",
       "      <td>364</td>\n",
       "      <td>GOOG</td>\n",
       "      <td>2023-02-17</td>\n",
       "      <td>95.750000</td>\n",
       "      <td>93.449997</td>\n",
       "      <td>94.589996</td>\n",
       "      <td>31074100</td>\n",
       "      <td>0.0</td>\n",
       "      <td>0.0</td>\n",
       "      <td>nan</td>\n",
       "      <td>95.070000</td>\n",
       "    </tr>\n",
       "    <tr>\n",
       "      <th>37</th>\n",
       "      <td>287</td>\n",
       "      <td>GOOG</td>\n",
       "      <td>2022-10-27</td>\n",
       "      <td>95.169998</td>\n",
       "      <td>91.900002</td>\n",
       "      <td>92.599998</td>\n",
       "      <td>54036500</td>\n",
       "      <td>0.0</td>\n",
       "      <td>0.0</td>\n",
       "      <td>nan</td>\n",
       "      <td>94.309998</td>\n",
       "    </tr>\n",
       "    <tr>\n",
       "      <th>102</th>\n",
       "      <td>352</td>\n",
       "      <td>GOOG</td>\n",
       "      <td>2023-02-01</td>\n",
       "      <td>102.190002</td>\n",
       "      <td>98.419998</td>\n",
       "      <td>101.430000</td>\n",
       "      <td>26392600</td>\n",
       "      <td>0.0</td>\n",
       "      <td>0.0</td>\n",
       "      <td>nan</td>\n",
       "      <td>99.739998</td>\n",
       "    </tr>\n",
       "  </tbody>\n",
       "</table>\n",
       "</div>"
      ],
      "text/plain": [
       "      id ticker   datetime        high        low       close       vol  \\\n",
       "98   348   GOOG 2023-01-26   99.209999  96.820000   99.160004  24542100   \n",
       "114  364   GOOG 2023-02-17   95.750000  93.449997   94.589996  31074100   \n",
       "37   287   GOOG 2022-10-27   95.169998  91.900002   92.599998  54036500   \n",
       "102  352   GOOG 2023-02-01  102.190002  98.419998  101.430000  26392600   \n",
       "\n",
       "     dividend  split gain       open  \n",
       "98        0.0    0.0  nan  98.279999  \n",
       "114       0.0    0.0  nan  95.070000  \n",
       "37        0.0    0.0  nan  94.309998  \n",
       "102       0.0    0.0  nan  99.739998  "
      ]
     },
     "execution_count": 45,
     "metadata": {},
     "output_type": "execute_result"
    }
   ],
   "source": [
    "#Get Specific Ticker\n",
    "getTicker('GOOG').sample(4)"
   ]
  },
  {
   "cell_type": "code",
   "execution_count": null,
   "id": "20e79bdd",
   "metadata": {},
   "outputs": [],
   "source": []
  }
 ],
 "metadata": {
  "kernelspec": {
   "display_name": "Python 3 (ipykernel)",
   "language": "python",
   "name": "python3"
  },
  "language_info": {
   "codemirror_mode": {
    "name": "ipython",
    "version": 3
   },
   "file_extension": ".py",
   "mimetype": "text/x-python",
   "name": "python",
   "nbconvert_exporter": "python",
   "pygments_lexer": "ipython3",
   "version": "3.7.4"
  }
 },
 "nbformat": 4,
 "nbformat_minor": 5
}
