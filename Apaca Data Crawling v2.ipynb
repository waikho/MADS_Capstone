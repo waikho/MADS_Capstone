{
 "cells": [
  {
   "cell_type": "code",
   "execution_count": 217,
   "id": "e7e6ade0",
   "metadata": {},
   "outputs": [],
   "source": [
    "#REF: https://alpaca.markets/docs/python-sdk/market_data.html#market-data\n",
    "#!pip3 install alpaca-py"
   ]
  },
  {
   "cell_type": "code",
   "execution_count": 3,
   "id": "193e5f94",
   "metadata": {},
   "outputs": [],
   "source": [
    "from alpaca.data import StockHistoricalDataClient\n",
    "from alpaca.data.requests import StockLatestQuoteRequest\n",
    "from alpaca.data.requests import StockBarsRequest\n",
    "from alpaca.data.timeframe import TimeFrame\n",
    "from datetime import datetime\n",
    "from datetime import date\n",
    "from datetime import time\n",
    "from datetime import timedelta\n",
    "from termcolor import colored\n",
    "from psycopg.rows import dict_row\n",
    "from psycopg.types.json import Json\n",
    "import alpaca.trading\n",
    "import alpaca\n",
    "import pytz\n",
    "import config\n",
    "import psycopg\n",
    "import threading\n",
    "import random"
   ]
  },
  {
   "cell_type": "code",
   "execution_count": null,
   "id": "7d0973cc",
   "metadata": {},
   "outputs": [],
   "source": [
    "#Init\n",
    "alpaca_key = 'PKM3CR0WHR7P6VWAKPE3'\n",
    "alpaca_secret = 'AAOm7WiKTZuIUODJZh3GPX4IctCeWcQOjc4NublA'\n",
    "selected_exchanges = ['AssetExchange.NASDAQ', 'AssetExchange.NYSE']\n",
    "newYorkTz = pytz.timezone(\"America/New_York\") \n",
    "#stock_client = StockHistoricalDataClient(alpaca_key, alpaca_secret)"
   ]
  },
  {
   "cell_type": "code",
   "execution_count": 4,
   "id": "aad5b78a",
   "metadata": {},
   "outputs": [],
   "source": [
    "def pgDictToConn(secretDict):\n",
    "    pgStrs = []\n",
    "    for key in secretDict:\n",
    "        pgStrs.append('{}={}'.format(key, secretDict[key]))\n",
    "    return ' '.join(pgStrs)\n",
    "pgConnStr = pgDictToConn(config.pgSecrets)"
   ]
  },
  {
   "cell_type": "code",
   "execution_count": 19,
   "id": "ec44714b",
   "metadata": {},
   "outputs": [],
   "source": [
    "def getAllActiveSymbols(selected_exchanges):\n",
    "    #AssetExchange.NASDAQ and AssetExchange.NYSE\n",
    "    trade_client = alpaca.trading.TradingClient(alpaca_key, alpaca_secret)\n",
    "    assets = trade_client.get_all_assets()\n",
    "    symbols = [asset.symbol for asset in assets \n",
    "           if str(asset.exchange) in selected_exchanges and str(asset.status) != 'AssetStatus.INACTIVE']\n",
    "    return symbols"
   ]
  },
  {
   "cell_type": "code",
   "execution_count": 20,
   "id": "122e338b",
   "metadata": {},
   "outputs": [],
   "source": [
    "def getMinuteDataForStock(symbol, date_from, date_to):\n",
    "    data = []\n",
    "    current_date = date_from\n",
    "    while current_date <= date_to:\n",
    "        open_time = datetime.combine(current_date, time(hour=9, minute=30, tzinfo=newYorkTz))\n",
    "        close_time = datetime.combine(current_date, time(hour=16,minute=0,tzinfo=newYorkTz))\n",
    "        request_params = StockBarsRequest(symbol_or_symbols=[symbol], \n",
    "                                      timeframe=TimeFrame.Minute, \n",
    "                                      start=open_time,\n",
    "                                      end=close_time)\n",
    "        stock_client = StockHistoricalDataClient(alpaca_key, alpaca_secret)\n",
    "        result = stock_client.get_stock_bars(request_params)\n",
    "        if symbol in result.data:\n",
    "            entries_list = []\n",
    "            for entry in result.data[symbol]:\n",
    "                entry_dict = entry.__dict__\n",
    "                entry_dict['date'] = current_date\n",
    "                entries_list.append(entry_dict)\n",
    "            data = data + entries_list\n",
    "        current_date = current_date + timedelta(1)\n",
    "    return data "
   ]
  },
  {
   "cell_type": "code",
   "execution_count": 21,
   "id": "f3676ec3",
   "metadata": {},
   "outputs": [],
   "source": [
    "def threadedGetMinuteDataForStock(symbol, date_from, date_to, result = [], job_id=1, thread_size=50):\n",
    "    num_days =  (date_to - date_from).days + 1\n",
    "    if num_days <= thread_size:\n",
    "        success = False\n",
    "        while not success:\n",
    "            try:\n",
    "                result.extend(getMinuteDataForStock(symbol, date_from, date_to))\n",
    "                print(colored('Completed for job id {} for {}'.format(job_id, symbol), 'red'))\n",
    "                success = True\n",
    "            except:\n",
    "                time.sleep(random.randint(1, 5))\n",
    "            \n",
    "    else:\n",
    "        split_point = int(num_days/2) - 1\n",
    "        date_from1 = date_from\n",
    "        date_to1 = date_from1 +  timedelta(split_point)\n",
    "        date_from2 = date_to1 + timedelta(1)\n",
    "        date_to2 = date_to\n",
    "        result1 = []\n",
    "        result2 = []\n",
    "        t1 = threading.Thread(target=threadedGetMinuteDataForStock, name='t{}'.format(job_id*2), \n",
    "                              args=(symbol, date_from1, date_to1, result1, job_id*2))\n",
    "        t2 = threading.Thread(target=threadedGetMinuteDataForStock, name='t{}'.format(job_id*2+1), \n",
    "                              args=(symbol, date_from2, date_to2, result2, job_id*2+1))\n",
    "        t1.start()\n",
    "        t2.start()\n",
    "        t1.join()\n",
    "        t2.join()\n",
    "        result.extend(result1)\n",
    "        result.extend(result2)\n",
    "        print(colored('Completed for job id {} for {}'.format(job_id, symbol), 'red'))"
   ]
  },
  {
   "cell_type": "code",
   "execution_count": 405,
   "id": "e9a68d2c",
   "metadata": {},
   "outputs": [],
   "source": [
    "def updateStockEntriesToDB(entries):\n",
    "    with psycopg.connect(pgConnStr) as conn:\n",
    "        with conn.cursor() as cur:\n",
    "            stmt = '''INSERT INTO alpaca_minute (symbol, date, datetime, \n",
    "                open, close, high, low, trade_count, vol, vwap)\n",
    "                VALUES (%s, %s, %s, %s, %s, %s, %s, %s, %s, %s)\n",
    "                ON CONFLICT(symbol, datetime) DO NOTHING'''\n",
    "            for entry in entries: \n",
    "                data = (entry['symbol'], entry['date'], entry['timestamp'], \n",
    "                        entry['open'], entry['close'], entry['high'], entry['low'],\n",
    "                        entry['trade_count'], entry['volume'], entry['vwap'])\n",
    "                cur.execute(stmt, data, prepare=True)\n",
    "            conn.commit()"
   ]
  },
  {
   "cell_type": "code",
   "execution_count": 13,
   "id": "8dc3edce",
   "metadata": {},
   "outputs": [],
   "source": [
    "#https://www.psycopg.org/psycopg3/docs/basic/copy.html\n",
    "#https://stackoverflow.com/questions/48019381/how-postgresql-copy-to-stdin-with-csv-do-on-conflic-do-update\n",
    "def updateSingleStockEntriesToDB(symbol, entries):\n",
    "    with psycopg.connect(pgConnStr) as conn:\n",
    "        with conn.cursor() as cur:\n",
    "            tmp_table = 'tmp_{}'.format(symbol.replace('.','_'))\n",
    "            stmt = '''CREATE TEMP TABLE {} \n",
    "                (LIKE alpaca_minute INCLUDING DEFAULTS)\n",
    "                ON COMMIT DROP'''.format(tmp_table)\n",
    "            cur.execute(stmt)\n",
    "                \n",
    "            with cur.copy('''COPY {} (symbol, date, datetime, \n",
    "                open, close, high, low, trade_count, vol, vwap)\n",
    "                FROM STDIN'''.format(tmp_table)) as copy:\n",
    "                for entry in entries: \n",
    "                    entry_tuple = (entry['symbol'], entry['date'], entry['timestamp'], \n",
    "                            entry['open'], entry['close'], entry['high'], entry['low'],\n",
    "                            entry['trade_count'], entry['volume'], entry['vwap'])\n",
    "                    copy.write_row(entry_tuple)\n",
    "                    \n",
    "            stmt = '''INSERT INTO alpaca_minute (symbol, date, datetime, \n",
    "                open, close, high, low, trade_count, vol, vwap)\n",
    "                SELECT symbol, date, datetime, \n",
    "                open, close, high, low, trade_count, vol, vwap\n",
    "                FROM {}\n",
    "                ON CONFLICT(symbol, datetime) DO NOTHING'''.format(tmp_table)\n",
    "            cur.execute(stmt)\n",
    "            conn.commit()    "
   ]
  },
  {
   "cell_type": "code",
   "execution_count": null,
   "id": "d2465e75",
   "metadata": {},
   "outputs": [],
   "source": [
    "# Test Script\n",
    "# --------------\n",
    "# to_date = date(year=2023, month=3, day=13)\n",
    "# from_date = to_date + timedelta (-179)\n",
    "# AAPL_data = []\n",
    "# threadedGetMinuteDataForStock('AAPL', from_date, to_date, AAPL_data)\n",
    "# print(len(AAPL_data))\n",
    "# updateSingleStockEntriesToDB('AAPL', AAPL_data)"
   ]
  },
  {
   "cell_type": "code",
   "execution_count": null,
   "id": "9216f299",
   "metadata": {},
   "outputs": [],
   "source": []
  },
  {
   "cell_type": "code",
   "execution_count": 14,
   "id": "982fb150",
   "metadata": {},
   "outputs": [],
   "source": []
  },
  {
   "cell_type": "code",
   "execution_count": 16,
   "id": "60d68165",
   "metadata": {},
   "outputs": [],
   "source": [
    "symbols_done = ['AAPL', 'CVV', 'DTOCU', 'GMFI', 'GMFIU', 'GMGI', 'GMRE', 'GMVD', 'GNE', 'GNE.PRA', 'GNFT', 'GNLN', 'GNL.PRA', 'GNL.PRB', 'GNPX', 'GNRC', 'GNSS', 'GNT', 'GNTA', 'GNT.PRA', 'GNTX', 'GNTY', 'GNUS', 'GNW', 'GPACU', 'GPK', 'GPMT', 'GPRO', 'GPS', 'GREE', 'GREEL', 'GRNQ', 'GRNR', 'GRNT', 'GRPH', 'GRPN', 'GRTX', 'GSBC', 'GSBD', 'GSD', 'GSDWU', 'GSHD', 'GSIT', 'GSK', 'GSM', 'GSMG', 'GS.PRC', 'GS.PRD', 'GS.PRJ', 'GS.PRK', 'GSQB', 'GSQB.U', 'GSRM', 'GSRMR', 'GSRMU', 'GSUN', 'GT', 'GTAC', 'GTACU', 'GTBP', 'GTEC', 'GTES', 'GTH', 'GTLB', 'GTLS', 'GTLS.PRB', 'GTN', 'GTN.A', 'GTR', 'GTX', 'GTXAP', 'GURE', 'GUT', 'GUT.PRC', 'GVCI', 'GVCIU', 'NGS', 'NGVC', 'NGVT', 'NH', 'NICE', 'REFR', 'REG', 'RELX', 'SF', 'SF.PRB', 'SF.PRC', 'SF.PRD', 'STKS']"
   ]
  },
  {
   "cell_type": "code",
   "execution_count": 22,
   "id": "8602ea8f",
   "metadata": {},
   "outputs": [],
   "source": [
    "symbols = getAllActiveSymbols(selected_exchanges)"
   ]
  },
  {
   "cell_type": "code",
   "execution_count": null,
   "id": "10ba333a",
   "metadata": {},
   "outputs": [
    {
     "name": "stdout",
     "output_type": "stream",
     "text": [
      "Completed for job id 5 for QSI\n",
      "Completed for job id 7 for QSI\n",
      "Completed for job id 4 for QSI\n",
      "Completed for job id 2 for QSI\n",
      "Completed for job id 6 for QSI\n",
      "Completed for job id 3 for QSI\n",
      "Completed for job id 1 for QSI\n",
      "Inserted 33751 entries for QSI\n",
      "Completed for job id 4 for QSR\n",
      "Completed for job id 6 for QSR\n",
      "Completed for job id 7 for QSR\n",
      "Completed for job id 3 for QSR\n",
      "Completed for job id 5 for QSR\n",
      "Completed for job id 2 for QSR\n",
      "Completed for job id 1 for QSR\n",
      "Inserted 44581 entries for QSR\n",
      "Completed for job id 6 for WMC\n",
      "Completed for job id 4 for WMC\n",
      "Completed for job id 7 for WMC\n",
      "Completed for job id 3 for WMC\n",
      "Completed for job id 5 for WMC\n",
      "Completed for job id 2 for WMC\n",
      "Completed for job id 1 for WMC\n",
      "Inserted 5181 entries for WMC\n",
      "Completed for job id 4 for WMG\n",
      "Completed for job id 5 for WMG\n",
      "Completed for job id 2 for WMG\n",
      "Completed for job id 7 for WMG\n",
      "Completed for job id 6 for WMG\n",
      "Completed for job id 3 for WMG\n",
      "Completed for job id 1 for WMG\n",
      "Inserted 42736 entries for WMG\n",
      "Completed for job id 5 for WMK\n",
      "Completed for job id 6 for WMK\n",
      "Completed for job id 4 for WMK\n",
      "Completed for job id 2 for WMK\n",
      "Completed for job id 7 for WMK\n",
      "Completed for job id 3 for WMK\n",
      "Completed for job id 1 for WMK\n",
      "Inserted 10743 entries for WMK\n",
      "Completed for job id 5 for WMPN\n",
      "Completed for job id 7 for WMPN\n",
      "Completed for job id 4 for WMPN\n",
      "Completed for job id 2 for WMPN\n",
      "Completed for job id 6 for WMPN\n",
      "Completed for job id 3 for WMPN\n",
      "Completed for job id 1 for WMPN\n",
      "Inserted 2448 entries for WMPN\n",
      "Completed for job id 6 for WMS\n",
      "Completed for job id 4 for WMS\n",
      "Completed for job id 7 for WMS\n",
      "Completed for job id 3 for WMS\n",
      "Completed for job id 5 for WMS\n",
      "Completed for job id 2 for WMS\n",
      "Completed for job id 1 for WMS\n",
      "Inserted 38265 entries for WMS\n",
      "Completed for job id 4 for WMT\n",
      "Completed for job id 6 for WMT\n",
      "Completed for job id 7 for WMT\n",
      "Completed for job id 3 for WMT\n",
      "Completed for job id 5 for WMT\n",
      "Completed for job id 2 for WMT\n",
      "Completed for job id 1 for WMT\n",
      "Inserted 45938 entries for WMT\n"
     ]
    }
   ],
   "source": [
    "to_date = date(year=2023, month=3, day=13)\n",
    "from_date = to_date + timedelta (-179)\n",
    "for symbol in symbols:\n",
    "    if symbol not in symbols_done:\n",
    "        data = []\n",
    "        threadedGetMinuteDataForStock(symbol, from_date, to_date, data)\n",
    "        updateSingleStockEntriesToDB(symbol, data)\n",
    "        symbols_done.append(symbol)\n",
    "        print('Inserted {} entries for {}'.format(len(data), symbol))\n",
    "        "
   ]
  },
  {
   "cell_type": "code",
   "execution_count": null,
   "id": "8153e837",
   "metadata": {},
   "outputs": [],
   "source": []
  }
 ],
 "metadata": {
  "kernelspec": {
   "display_name": "Python 3 (ipykernel)",
   "language": "python",
   "name": "python3"
  },
  "language_info": {
   "codemirror_mode": {
    "name": "ipython",
    "version": 3
   },
   "file_extension": ".py",
   "mimetype": "text/x-python",
   "name": "python",
   "nbconvert_exporter": "python",
   "pygments_lexer": "ipython3",
   "version": "3.7.4"
  }
 },
 "nbformat": 4,
 "nbformat_minor": 5
}
