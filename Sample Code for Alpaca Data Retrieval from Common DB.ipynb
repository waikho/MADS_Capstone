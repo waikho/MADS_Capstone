{
 "cells": [
  {
   "cell_type": "code",
   "execution_count": 2,
   "id": "34b46577",
   "metadata": {},
   "outputs": [],
   "source": [
    "#!pip3 install \"psycopg[binary]\""
   ]
  },
  {
   "cell_type": "code",
   "execution_count": 19,
   "id": "1836eb52",
   "metadata": {},
   "outputs": [],
   "source": [
    "import config\n",
    "import psycopg\n",
    "import pytz\n",
    "import pandas as pd\n",
    "import numpy as np\n",
    "from psycopg.rows import dict_row"
   ]
  },
  {
   "cell_type": "code",
   "execution_count": 4,
   "id": "e27062cb",
   "metadata": {},
   "outputs": [],
   "source": [
    "def pgDictToConn(secretDict):\n",
    "    pgStrs = []\n",
    "    for key in secretDict:\n",
    "        pgStrs.append('{}={}'.format(key, secretDict[key]))\n",
    "    return ' '.join(pgStrs)\n"
   ]
  },
  {
   "cell_type": "code",
   "execution_count": 5,
   "id": "b2188c95",
   "metadata": {},
   "outputs": [],
   "source": [
    "#Init\n",
    "pgConnStr = pgDictToConn(config.pgSecrets)"
   ]
  },
  {
   "cell_type": "code",
   "execution_count": 31,
   "id": "e1a90822",
   "metadata": {},
   "outputs": [],
   "source": [
    "def getTicker(symbol):\n",
    "    with psycopg.connect(pgConnStr) as conn:\n",
    "        with conn.cursor(row_factory=dict_row) as cur:\n",
    "            stmt = '''SELECT * FROM alpaca_minute WHERE symbol = %s'''\n",
    "            data = (symbol, )\n",
    "            result = cur.execute(stmt, data).fetchall()\n",
    "            desc = cur.description\n",
    "            cols = [col[0] for col in desc]\n",
    "            conn.commit()\n",
    "    df = pd.DataFrame(data=result, columns=cols)\n",
    "#     df['datetime'] = df['datetime'].dt.tz_convert('America/New_York')\n",
    "    df['datetime'] = df['datetime'].dt.tz_convert('America/New_York')\n",
    "    return df #pd.DataFrame(data=result, columns=cols)"
   ]
  },
  {
   "cell_type": "code",
   "execution_count": 29,
   "id": "42d44350",
   "metadata": {},
   "outputs": [],
   "source": [
    "def getTickerList():\n",
    "    with psycopg.connect(pgConnStr) as conn:\n",
    "        with conn.cursor(row_factory=dict_row) as cur:\n",
    "            stmt = '''SELECT DISTINCT symbol FROM alpaca_minute ORDER BY symbol'''\n",
    "            result = cur.execute(stmt).fetchall()\n",
    "            conn.commit()\n",
    "            return [row['symbol'] for row in result]"
   ]
  },
  {
   "cell_type": "code",
   "execution_count": null,
   "id": "228a0850",
   "metadata": {},
   "outputs": [],
   "source": []
  },
  {
   "cell_type": "code",
   "execution_count": 84,
   "id": "29efd865",
   "metadata": {},
   "outputs": [
    {
     "data": {
      "text/plain": [
       "18"
      ]
     },
     "execution_count": 84,
     "metadata": {},
     "output_type": "execute_result"
    }
   ],
   "source": [
    "#Get List of all tickers\n",
    "len(getTickerList())"
   ]
  },
  {
   "cell_type": "code",
   "execution_count": 85,
   "id": "a924226e",
   "metadata": {},
   "outputs": [
    {
     "data": {
      "text/plain": [
       "['GNRC',\n",
       " 'GNFT',\n",
       " 'GNLN',\n",
       " 'SF',\n",
       " 'GNSS',\n",
       " 'GNE',\n",
       " 'GMRE',\n",
       " 'GNE.PRA',\n",
       " 'GMVD',\n",
       " 'AAPL']"
      ]
     },
     "execution_count": 85,
     "metadata": {},
     "output_type": "execute_result"
    }
   ],
   "source": [
    "#Sample 10 random stocks\n",
    "tickers = getTickerList()\n",
    "random_pick = list(np.random.choice(tickers, 10 if len(tickers) > 10 else  len(tickers), replace=False))\n",
    "random_pick"
   ]
  },
  {
   "cell_type": "code",
   "execution_count": 86,
   "id": "45721ce1",
   "metadata": {},
   "outputs": [
    {
     "data": {
      "text/html": [
       "<div>\n",
       "<style scoped>\n",
       "    .dataframe tbody tr th:only-of-type {\n",
       "        vertical-align: middle;\n",
       "    }\n",
       "\n",
       "    .dataframe tbody tr th {\n",
       "        vertical-align: top;\n",
       "    }\n",
       "\n",
       "    .dataframe thead th {\n",
       "        text-align: right;\n",
       "    }\n",
       "</style>\n",
       "<table border=\"1\" class=\"dataframe\">\n",
       "  <thead>\n",
       "    <tr style=\"text-align: right;\">\n",
       "      <th></th>\n",
       "      <th>id</th>\n",
       "      <th>date</th>\n",
       "      <th>symbol</th>\n",
       "      <th>open</th>\n",
       "      <th>close</th>\n",
       "      <th>high</th>\n",
       "      <th>low</th>\n",
       "      <th>trade_count</th>\n",
       "      <th>vol</th>\n",
       "      <th>vwap</th>\n",
       "      <th>datetime</th>\n",
       "    </tr>\n",
       "  </thead>\n",
       "  <tbody>\n",
       "    <tr>\n",
       "      <th>0</th>\n",
       "      <td>242070</td>\n",
       "      <td>2022-09-15</td>\n",
       "      <td>GNRC</td>\n",
       "      <td>217.360</td>\n",
       "      <td>217.3600</td>\n",
       "      <td>217.390</td>\n",
       "      <td>217.360</td>\n",
       "      <td>75.0</td>\n",
       "      <td>2466.0</td>\n",
       "      <td>217.372458</td>\n",
       "      <td>2022-09-15 10:26:00-04:00</td>\n",
       "    </tr>\n",
       "    <tr>\n",
       "      <th>1</th>\n",
       "      <td>242071</td>\n",
       "      <td>2022-09-15</td>\n",
       "      <td>GNRC</td>\n",
       "      <td>217.385</td>\n",
       "      <td>214.7100</td>\n",
       "      <td>217.385</td>\n",
       "      <td>214.710</td>\n",
       "      <td>313.0</td>\n",
       "      <td>11165.0</td>\n",
       "      <td>216.347007</td>\n",
       "      <td>2022-09-15 10:27:00-04:00</td>\n",
       "    </tr>\n",
       "    <tr>\n",
       "      <th>2</th>\n",
       "      <td>242072</td>\n",
       "      <td>2022-09-15</td>\n",
       "      <td>GNRC</td>\n",
       "      <td>214.690</td>\n",
       "      <td>214.6089</td>\n",
       "      <td>214.690</td>\n",
       "      <td>214.460</td>\n",
       "      <td>41.0</td>\n",
       "      <td>1290.0</td>\n",
       "      <td>214.573392</td>\n",
       "      <td>2022-09-15 10:28:00-04:00</td>\n",
       "    </tr>\n",
       "    <tr>\n",
       "      <th>3</th>\n",
       "      <td>242073</td>\n",
       "      <td>2022-09-15</td>\n",
       "      <td>GNRC</td>\n",
       "      <td>214.643</td>\n",
       "      <td>214.4600</td>\n",
       "      <td>214.643</td>\n",
       "      <td>214.340</td>\n",
       "      <td>81.0</td>\n",
       "      <td>3225.0</td>\n",
       "      <td>214.475613</td>\n",
       "      <td>2022-09-15 10:29:00-04:00</td>\n",
       "    </tr>\n",
       "    <tr>\n",
       "      <th>4</th>\n",
       "      <td>242074</td>\n",
       "      <td>2022-09-15</td>\n",
       "      <td>GNRC</td>\n",
       "      <td>214.110</td>\n",
       "      <td>214.6400</td>\n",
       "      <td>214.750</td>\n",
       "      <td>214.090</td>\n",
       "      <td>111.0</td>\n",
       "      <td>3034.0</td>\n",
       "      <td>214.416162</td>\n",
       "      <td>2022-09-15 10:30:00-04:00</td>\n",
       "    </tr>\n",
       "    <tr>\n",
       "      <th>...</th>\n",
       "      <td>...</td>\n",
       "      <td>...</td>\n",
       "      <td>...</td>\n",
       "      <td>...</td>\n",
       "      <td>...</td>\n",
       "      <td>...</td>\n",
       "      <td>...</td>\n",
       "      <td>...</td>\n",
       "      <td>...</td>\n",
       "      <td>...</td>\n",
       "      <td>...</td>\n",
       "    </tr>\n",
       "    <tr>\n",
       "      <th>44833</th>\n",
       "      <td>286903</td>\n",
       "      <td>2023-03-13</td>\n",
       "      <td>GNRC</td>\n",
       "      <td>113.430</td>\n",
       "      <td>113.5200</td>\n",
       "      <td>113.530</td>\n",
       "      <td>113.430</td>\n",
       "      <td>227.0</td>\n",
       "      <td>14678.0</td>\n",
       "      <td>113.474096</td>\n",
       "      <td>2023-03-13 15:58:00-04:00</td>\n",
       "    </tr>\n",
       "    <tr>\n",
       "      <th>44834</th>\n",
       "      <td>286904</td>\n",
       "      <td>2023-03-13</td>\n",
       "      <td>GNRC</td>\n",
       "      <td>113.520</td>\n",
       "      <td>113.6500</td>\n",
       "      <td>113.720</td>\n",
       "      <td>113.515</td>\n",
       "      <td>546.0</td>\n",
       "      <td>32507.0</td>\n",
       "      <td>113.604752</td>\n",
       "      <td>2023-03-13 15:59:00-04:00</td>\n",
       "    </tr>\n",
       "    <tr>\n",
       "      <th>44835</th>\n",
       "      <td>286905</td>\n",
       "      <td>2023-03-13</td>\n",
       "      <td>GNRC</td>\n",
       "      <td>113.640</td>\n",
       "      <td>113.6400</td>\n",
       "      <td>113.640</td>\n",
       "      <td>113.640</td>\n",
       "      <td>25.0</td>\n",
       "      <td>88443.0</td>\n",
       "      <td>113.639992</td>\n",
       "      <td>2023-03-13 16:00:00-04:00</td>\n",
       "    </tr>\n",
       "    <tr>\n",
       "      <th>44836</th>\n",
       "      <td>286906</td>\n",
       "      <td>2023-03-13</td>\n",
       "      <td>GNRC</td>\n",
       "      <td>113.640</td>\n",
       "      <td>113.6400</td>\n",
       "      <td>113.640</td>\n",
       "      <td>113.640</td>\n",
       "      <td>12.0</td>\n",
       "      <td>1056.0</td>\n",
       "      <td>113.640000</td>\n",
       "      <td>2023-03-13 16:01:00-04:00</td>\n",
       "    </tr>\n",
       "    <tr>\n",
       "      <th>44837</th>\n",
       "      <td>286907</td>\n",
       "      <td>2023-03-13</td>\n",
       "      <td>GNRC</td>\n",
       "      <td>113.640</td>\n",
       "      <td>113.6400</td>\n",
       "      <td>113.640</td>\n",
       "      <td>113.640</td>\n",
       "      <td>4.0</td>\n",
       "      <td>249.0</td>\n",
       "      <td>113.640000</td>\n",
       "      <td>2023-03-13 16:02:00-04:00</td>\n",
       "    </tr>\n",
       "  </tbody>\n",
       "</table>\n",
       "<p>44838 rows × 11 columns</p>\n",
       "</div>"
      ],
      "text/plain": [
       "           id        date symbol     open     close     high      low  \\\n",
       "0      242070  2022-09-15   GNRC  217.360  217.3600  217.390  217.360   \n",
       "1      242071  2022-09-15   GNRC  217.385  214.7100  217.385  214.710   \n",
       "2      242072  2022-09-15   GNRC  214.690  214.6089  214.690  214.460   \n",
       "3      242073  2022-09-15   GNRC  214.643  214.4600  214.643  214.340   \n",
       "4      242074  2022-09-15   GNRC  214.110  214.6400  214.750  214.090   \n",
       "...       ...         ...    ...      ...       ...      ...      ...   \n",
       "44833  286903  2023-03-13   GNRC  113.430  113.5200  113.530  113.430   \n",
       "44834  286904  2023-03-13   GNRC  113.520  113.6500  113.720  113.515   \n",
       "44835  286905  2023-03-13   GNRC  113.640  113.6400  113.640  113.640   \n",
       "44836  286906  2023-03-13   GNRC  113.640  113.6400  113.640  113.640   \n",
       "44837  286907  2023-03-13   GNRC  113.640  113.6400  113.640  113.640   \n",
       "\n",
       "       trade_count      vol        vwap                  datetime  \n",
       "0             75.0   2466.0  217.372458 2022-09-15 10:26:00-04:00  \n",
       "1            313.0  11165.0  216.347007 2022-09-15 10:27:00-04:00  \n",
       "2             41.0   1290.0  214.573392 2022-09-15 10:28:00-04:00  \n",
       "3             81.0   3225.0  214.475613 2022-09-15 10:29:00-04:00  \n",
       "4            111.0   3034.0  214.416162 2022-09-15 10:30:00-04:00  \n",
       "...            ...      ...         ...                       ...  \n",
       "44833        227.0  14678.0  113.474096 2023-03-13 15:58:00-04:00  \n",
       "44834        546.0  32507.0  113.604752 2023-03-13 15:59:00-04:00  \n",
       "44835         25.0  88443.0  113.639992 2023-03-13 16:00:00-04:00  \n",
       "44836         12.0   1056.0  113.640000 2023-03-13 16:01:00-04:00  \n",
       "44837          4.0    249.0  113.640000 2023-03-13 16:02:00-04:00  \n",
       "\n",
       "[44838 rows x 11 columns]"
      ]
     },
     "execution_count": 86,
     "metadata": {},
     "output_type": "execute_result"
    }
   ],
   "source": [
    "getTicker(random_pick[0])"
   ]
  },
  {
   "cell_type": "code",
   "execution_count": 53,
   "id": "9c3d2b74",
   "metadata": {},
   "outputs": [],
   "source": [
    "#Get Specific Ticker\n",
    "AAPL = getTicker('AAPL')"
   ]
  },
  {
   "cell_type": "code",
   "execution_count": 71,
   "id": "64a4aba5",
   "metadata": {},
   "outputs": [
    {
     "data": {
      "text/plain": [
       "id                                   393\n",
       "date                          2022-09-15\n",
       "symbol                              AAPL\n",
       "open                              151.89\n",
       "close                             151.73\n",
       "high                              151.89\n",
       "low                               151.73\n",
       "trade_count                        163.0\n",
       "vol                              20313.0\n",
       "vwap                          151.822464\n",
       "datetime       2022-09-15 16:56:00-04:00\n",
       "Name: 390, dtype: object"
      ]
     },
     "execution_count": 71,
     "metadata": {},
     "output_type": "execute_result"
    }
   ],
   "source": [
    "AAPL.loc[390,:]"
   ]
  },
  {
   "cell_type": "code",
   "execution_count": null,
   "id": "aa943c93",
   "metadata": {},
   "outputs": [],
   "source": []
  }
 ],
 "metadata": {
  "kernelspec": {
   "display_name": "Python 3 (ipykernel)",
   "language": "python",
   "name": "python3"
  },
  "language_info": {
   "codemirror_mode": {
    "name": "ipython",
    "version": 3
   },
   "file_extension": ".py",
   "mimetype": "text/x-python",
   "name": "python",
   "nbconvert_exporter": "python",
   "pygments_lexer": "ipython3",
   "version": "3.7.4"
  }
 },
 "nbformat": 4,
 "nbformat_minor": 5
}
