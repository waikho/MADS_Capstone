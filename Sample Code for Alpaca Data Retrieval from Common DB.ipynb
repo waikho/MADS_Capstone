{
 "cells": [
  {
   "cell_type": "code",
   "execution_count": 1,
   "id": "34b46577",
   "metadata": {},
   "outputs": [],
   "source": [
    "#!pip3 install \"psycopg[binary]\""
   ]
  },
  {
   "cell_type": "code",
   "execution_count": 2,
   "id": "1836eb52",
   "metadata": {},
   "outputs": [],
   "source": [
    "import config\n",
    "import psycopg\n",
    "import pytz\n",
    "import pandas as pd\n",
    "import numpy as np\n",
    "from psycopg.rows import dict_row"
   ]
  },
  {
   "cell_type": "code",
   "execution_count": 3,
   "id": "e27062cb",
   "metadata": {},
   "outputs": [],
   "source": [
    "def pgDictToConn(secretDict):\n",
    "    pgStrs = []\n",
    "    for key in secretDict:\n",
    "        pgStrs.append('{}={}'.format(key, secretDict[key]))\n",
    "    return ' '.join(pgStrs)\n"
   ]
  },
  {
   "cell_type": "code",
   "execution_count": 4,
   "id": "b2188c95",
   "metadata": {},
   "outputs": [],
   "source": [
    "#Init\n",
    "pgConnStr = pgDictToConn(config.pgSecrets)"
   ]
  },
  {
   "cell_type": "code",
   "execution_count": 5,
   "id": "e1a90822",
   "metadata": {},
   "outputs": [],
   "source": [
    "def getTicker(symbol):\n",
    "    with psycopg.connect(pgConnStr) as conn:\n",
    "        with conn.cursor(row_factory=dict_row) as cur:\n",
    "            stmt = '''SELECT * FROM alpaca_minute WHERE symbol = %s'''\n",
    "            data = (symbol, )\n",
    "            result = cur.execute(stmt, data).fetchall()\n",
    "            desc = cur.description\n",
    "            cols = [col[0] for col in desc]\n",
    "            conn.commit()\n",
    "    df = pd.DataFrame(data=result, columns=cols)\n",
    "#     df['datetime'] = df['datetime'].dt.tz_convert('America/New_York')\n",
    "    df['datetime'] = df['datetime'].dt.tz_convert('America/New_York')\n",
    "    return df #pd.DataFrame(data=result, columns=cols)"
   ]
  },
  {
   "cell_type": "code",
   "execution_count": 6,
   "id": "42d44350",
   "metadata": {},
   "outputs": [],
   "source": [
    "def getTickerList():\n",
    "    with psycopg.connect(pgConnStr) as conn:\n",
    "        with conn.cursor(row_factory=dict_row) as cur:\n",
    "            stmt = '''SELECT DISTINCT symbol FROM alpaca_minute ORDER BY symbol'''\n",
    "            result = cur.execute(stmt).fetchall()\n",
    "            conn.commit()\n",
    "            return [row['symbol'] for row in result]"
   ]
  },
  {
   "cell_type": "code",
   "execution_count": 76,
   "id": "228a0850",
   "metadata": {},
   "outputs": [],
   "source": [
    "def getFilteredTickerList(lowest_price=0.0, highest_price=999999999):\n",
    "    with psycopg.connect(pgConnStr) as conn:\n",
    "        with conn.cursor(row_factory=dict_row) as cur:\n",
    "            stmt = '''CREATE TEMP TABLE last_tranx \n",
    "                ON COMMIT DROP\n",
    "                AS\n",
    "                SELECT symbol, max(datetime) AS latest FROM alpaca_minute\n",
    "                GROUP BY symbol \n",
    "                '''\n",
    "            cur.execute(stmt)\n",
    "            stmt = '''SELECT AM.symbol FROM alpaca_minute AS AM, last_tranx AS LT\n",
    "                WHERE AM.symbol = LT.symbol AND AM.datetime = LT.latest\n",
    "                AND AM.close >= %s AND AM.close <= %s AND '''\n",
    "            data = (lowest_price, highest_price)\n",
    "            result = cur.execute(stmt, data).fetchall()\n",
    "            conn.commit()\n",
    "            return [row['symbol'] for row in result]"
   ]
  },
  {
   "cell_type": "code",
   "execution_count": 72,
   "id": "29efd865",
   "metadata": {},
   "outputs": [
    {
     "data": {
      "text/plain": [
       "1776"
      ]
     },
     "execution_count": 72,
     "metadata": {},
     "output_type": "execute_result"
    }
   ],
   "source": [
    "#Count Number of All Tickers\n",
    "len(getTickerList())"
   ]
  },
  {
   "cell_type": "code",
   "execution_count": 78,
   "id": "d525bce7",
   "metadata": {},
   "outputs": [
    {
     "data": {
      "text/plain": [
       "490"
      ]
     },
     "execution_count": 78,
     "metadata": {},
     "output_type": "execute_result"
    }
   ],
   "source": [
    "#Count Tickers Between 10 USD and 30 USD at latest close price\n",
    "len(getFilteredTickerList(lowest_price=10.0, highest_price=20.0))"
   ]
  },
  {
   "cell_type": "code",
   "execution_count": 52,
   "id": "e17b4a57",
   "metadata": {},
   "outputs": [
    {
     "name": "stdout",
     "output_type": "stream",
     "text": [
      "['AAC', 'AACG', 'AACI', 'AACIU', 'AAC.U', 'AADI', 'AADR', 'AAIC', 'AAIC.PRB', 'AAIC.PRC', 'AAIN', 'AAL', 'AAME', 'AAM.PRA', 'AAM.PRB', 'AAN', 'AAOI', 'AAON', 'AAP', 'AAPB', 'AAPD', 'AAPL', 'AAPU', 'AAT', 'AAWW', 'AAXJ', 'AB', 'ABB', 'ABBV', 'ABC', 'ABCB', 'ABCL', 'ABCM', 'ABEO', 'ABNB', 'ABOS', 'ABR', 'ABR.PRD', 'ABR.PRE', 'ABR.PRF', 'ABSI', 'ABST', 'ABT', 'ABUS', 'ABVC', 'AC', 'ACA', 'ACAB', 'ACABU', 'ACAC', 'ACACU', 'ACAD', 'ACAH', 'ACAHU', 'ACAX', 'ACAXR', 'ACAXU', 'ACB', 'ACBA', 'ACBAU', 'ACCD', 'ACCO', 'ACDC', 'ACEL', 'ACER', 'ACET', 'ACGL', 'ACGLN', 'ACGLO', 'ACGN', 'ACHC', 'ACHL', 'ACHR', 'ACHV', 'ACI', 'ACIU', 'ACIW', 'ACLS', 'ACLX', 'ACM', 'ACMR', 'ACN', 'ACNB', 'ACNT', 'ACON', 'ACRE', 'ACR.PRD', 'ACT', 'ACTG', 'ADC.PRA', 'ADNT', 'ADX', 'ADXN', 'AEE', 'AESI', 'AEYE', 'AEZS', 'AFARU', 'AGL', 'AGZD', 'AHG', 'AHT.PRD', 'AIBBR', 'AIF', 'AIG', 'AIR', 'AJRD', 'AKTS', 'ALBT', 'ALDX', 'ALG', 'ALIT', 'ALK', 'ALLE', 'ALLG', 'ALL.PRH', 'ALL.PRI', 'ALLR', 'ALR', 'ALRN', 'ALSN', 'ALTG', 'ALV', 'AMAT', 'AMCR', 'AME', 'AMH.PRG', 'AMID', 'AMK', 'AMKR', 'AMLI', 'AMLX', 'AMN', 'AMOT', 'AMOV', 'AMR', 'AMRC', 'AMRN', 'AMRS', 'AMSWA', 'ANAB', 'ANDE', 'ANET', 'ANF', 'ANGH', 'ANGI', 'ANGL', 'ANIK', 'APLT', 'APRE', 'APRN', 'APTMU', 'APTO', 'APVO', 'AQN', 'AQNA', 'AQNB', 'AQNU', 'AQST', 'AQU', 'AQUA', 'AQUNR', 'AQUNU', 'ARE', 'AREC', 'ARGX', 'ARLP', 'ARVN', 'ASND', 'ASNS', 'ASO', 'ASPA', 'ASPAU', 'ASPI', 'ASPN', 'ASRT', 'ASTR', 'ASX', 'ASYS', 'ATAKU', 'ATAQ', 'ATEN', 'ATER', 'ATEX', 'ATHM', 'ATH.PRC', 'ATNI', 'AUBN', 'AUB.PRA', 'AUD', 'AUDC', 'AUGX', 'AUID', 'AVK', 'AVNT', 'AVNW', 'AVRO', 'AVTX', 'AYX', 'AZTA', 'B', 'BBDC', 'BBGI', 'BBH', 'BBIO', 'BBLG', 'BBLN', 'BCAT', 'BCBP', 'BCC', 'BCDA', 'BCEL', 'BGH', 'BGNE', 'BGR', 'BGX', 'BHF', 'BICK', 'BIGC', 'BIT', 'BMA', 'BMAQU', 'BMI', 'BML.PRG', 'BML.PRJ', 'BMR', 'BMRA', 'BMRC', 'BMRN', 'BNR', 'BNRE', 'BNRG', 'BNS', 'BNSO', 'BOAC', 'BOAC.U', 'BOC', 'BOCN', 'BOCNU', 'BPRN', 'BRID', 'BRSH', 'BRW', 'BRX', 'BSJQ', 'BSMP', 'BVH', 'BVXV', 'BWCAU', 'BYNO', 'BYNOU', 'CAC', 'CALX', 'CAPL', 'CAPR', 'CAR', 'CARA', 'CASH', 'CATY', 'CB', 'CBAN', 'CBAT', 'CBAY', 'CBD', 'CBFV', 'CBRGU', 'CCAI', 'CCAP', 'CCI', 'CCSO', 'CCVI', 'CDC', 'CDE', 'CDIO', 'CDLX', 'CDMO', 'CDNA', 'CDNS', 'CDRO', 'CELG.RT', 'CELH', 'CGC', 'CGNT', 'CGTX', 'CHB', 'CHCI', 'CHCO', 'CHCT', 'CHD', 'CHEAU', 'CHK', 'CHKP', 'CHMG', 'CHMI', 'CHMI.PRB', 'CHNA', 'CHNR', 'CHPT', 'CHRA', 'CHRD', 'CHRS', 'CHRW', 'CHS', 'CHSCL', 'CIM.PRB', 'CITEU', 'CIVB', 'CIVI', 'CLH', 'CLPT', 'CLRB', 'CLVT', 'CNCR', 'CNDB', 'CODI', 'CODI.PRA', 'COLB', 'COP', 'COPJ', 'CPK', 'CPSH', 'CPSS', 'CPT', 'CPTK', 'CPTK.U', 'CPZ', 'CRC', 'CRCT', 'CRD.A', 'CRD.B', 'CRDO', 'CREC', 'CRECU', 'CREG', 'CRESY', 'CREX', 'CRNC', 'CRUS', 'CRVL', 'CRVS', 'CRWD', 'CRWS', 'CRZNU', 'CS', 'CSA', 'CSAN', 'CSB', 'CSCO', 'CSF', 'CSGP', 'CSGS', 'CSII', 'CSIQ', 'CSL', 'CSLM', 'CSLMR', 'CSLMU', 'CSML', 'CSPI', 'CSR.PRC', 'CSWC', 'CSWI', 'CTHR', 'CTS', 'CVRX', 'CVV', 'CXW', 'DCFC', 'DCGO', 'DCTH', 'DD', 'DEMZ', 'DHI', 'DHT', 'DHX', 'DKDCA', 'DLY', 'DNLI', 'DPZ', 'DQ', 'DRCT', 'DRD', 'DRH', 'DRH.PRA', 'DRI', 'DRIO', 'DRTS', 'DRTT', 'DRUG', 'DRVN', 'DSL', 'DSM', 'DTOCU', 'DTST', 'DTW', 'DUET', 'DUETU', 'DUK', 'DUKB', 'DVAL', 'DVAX', 'DXGE', 'DXYN', 'E', 'ECOR', 'EEMA', 'EGBN', 'EGGF.U', 'EMBC', 'EME', 'EMF', 'ENBA', 'ENIC', 'EQRX', 'EQS', 'ERYP', 'EVOK', 'EVOP', 'EVR', 'FDX', 'FEMS', 'FEMY', 'FENG', 'FEP', 'FIAC', 'FINW', 'FJP', 'FL', 'FLN', 'FLNC', 'FN', 'FNF', 'FREQ', 'FREY', 'FRGI', 'FRGT', 'FRHC', 'FRLA', 'FRLAU', 'FRLN', 'FRME', 'FRMEP', 'FRO', 'FROG', 'FRON', 'FRONU', 'FRT.PRC', 'FRTX', 'FSK', 'FSLR', 'FSLY', 'FSM', 'FSNB', 'FSNB.U', 'FSR', 'FSRX', 'FSRXU', 'FSS', 'FSTR', 'FSV', 'FTA', 'FTAG', 'FTAI', 'FTAIN', 'FTAIO', 'FTAIP', 'FTC', 'FTCH', 'FTCI', 'FTCS', 'FTDR', 'FTEK', 'FTFT', 'FTGC', 'FTGS', 'FTHI', 'FTHM', 'FTHY', 'FTI', 'FTII', 'FTIIU', 'FTK', 'FTNT', 'FTPA', 'FTPAU', 'FTQI', 'FTRI', 'FTS', 'FTSL', 'FTSM', 'FTV', 'FTXG', 'FTXL', 'FTXN', 'FTXO', 'FTXR', 'FUBO', 'FUL', 'FULC', 'FULT', 'FULTP', 'GBCI', 'GBDC', 'GEF.B', 'GEG', 'GEGGL', 'GEHI', 'GEL', 'GGG', 'GIB', 'GIC', 'GIFI', 'GIGM', 'GLOP', 'GLOP.PRA', 'GLOP.PRB', 'GLOP.PRC', 'GMFI', 'GMFIU', 'GMGI', 'GMRE', 'GMRE.PRA', 'GMVD', 'GNE', 'GNE.PRA', 'GNFT', 'GNLN', 'GNL.PRA', 'GNL.PRB', 'GNPX', 'GNRC', 'GNSS', 'GNT', 'GNTA', 'GNT.PRA', 'GNTX', 'GNTY', 'GNUS', 'GNW', 'GPACU', 'GPK', 'GPMT', 'GPRO', 'GPS', 'GRBK', 'GREE', 'GREEL', 'GRFS', 'GRID', 'GRIL', 'GRIN', 'GRNA', 'GRND', 'GRNQ', 'GRNR', 'GRNT', 'GRPH', 'GRPN', 'GRP.U', 'GRTX', 'GSBC', 'GSBD', 'GSD', 'GSDWU', 'GSHD', 'GSIT', 'GSK', 'GSL.PRB', 'GSM', 'GSMG', 'GS.PRC', 'GS.PRD', 'GS.PRJ', 'GS.PRK', 'GSQB', 'GSQB.U', 'GSRM', 'GSRMR', 'GSRMU', 'GSUN', 'GT', 'GTAC', 'GTACU', 'GTBP', 'GTEC', 'GTES', 'GTH', 'GTHX', 'GTLB', 'GTLS', 'GTLS.PRB', 'GTN', 'GTN.A', 'GTR', 'GTX', 'GTXAP', 'GTY', 'GUG', 'GURE', 'GUT', 'GUT.PRC', 'GVA', 'GVCI', 'GVCIU', 'GVP', 'GWAV', 'GWH', 'GWII', 'GWRE', 'GWRS', 'GWW', 'GXII', 'GXIIU', 'GXO', 'GXTG', 'GYRO', 'HAFC', 'HAIA', 'HAIAU', 'HAIN', 'HAL', 'HALL', 'HALO', 'HARP', 'HAS', 'HASI', 'HAYW', 'HBAN', 'HBANL', 'HBANM', 'HBANP', 'HBB', 'HBCP', 'HBIO', 'HBM', 'HBNC', 'HBT', 'HCA', 'HCAT', 'HCC', 'HCCI', 'HCDI', 'HCDIP', 'HCI', 'HCKT', 'HCM', 'HCMA', 'HCP', 'HCSG', 'HCTI', 'HCVI', 'HCVIU', 'HCWB', 'HCXY', 'HD', 'HDB', 'HDSN', 'HEI', 'HEI.A', 'HELE', 'HEP', 'HEPA', 'HEPS', 'HEQ', 'HERD', 'HERO', 'HEWG', 'HEXO', 'HFBL', 'HFFG', 'HFRO', 'HFRO.PRA', 'HFWA', 'HGBL', 'HGEN', 'HGTY', 'HGV', 'HHC', 'HHGC', 'HHGCR', 'HHGCU', 'HHLA', 'HHLA.U', 'HHRS', 'HHS', 'HI', 'HIBB', 'HIE', 'HIFS', 'HIG', 'HIG.PRG', 'HIHO', 'HII', 'HILS', 'HIMS', 'HISF', 'HIVE', 'HIW', 'HLAL', 'HLN', 'HLNE', 'HL.PRB', 'HLT', 'HNNAZ', 'HNRG', 'HNST', 'HNVR', 'HOLI', 'HOLO', 'HRT', 'HSCS', 'HSDT', 'HSIC', 'HWKN', 'HWKZ', 'HWKZ.U', 'IBTD', 'ICD', 'ICL', 'ICMB', 'ICNC', 'ICPT', 'ICU', 'ICUI', 'ICVX', 'IFIN.U', 'IFN', 'IGOV', 'IGR', 'IGSB', 'INFN', 'INFR', 'INFY', 'ING', 'INGN', 'INPXV', 'INVA', 'IONM', 'IRM', 'IRMD', 'IRNT', 'IRON', 'IT', 'IVAC', 'IVCB', 'JFIN', 'JFR', 'JNCE', 'JNPR', 'JOAN', 'JOBY', 'JOE', 'JOET', 'JOF', 'JPM.PRM', 'JPS', 'JRI', 'JRO', 'JRS', 'JRVR', 'JSD', 'JSM', 'JZXN', 'K', 'KA', 'KACL', 'KACLR', 'KACLU', 'KE', 'KEJI', 'KELYA', 'KELYB', 'KEN', 'KEP', 'KEQU', 'KERN', 'KEX', 'KEY', 'KEY.PRI', 'KEY.PRJ', 'LAUR', 'LAW', 'LAZ', 'LAZR', 'LAZY', 'LBAI', 'LBBB', 'LFCR', 'LGVC', 'LGVCU', 'LMAT', 'LMB', 'LND', 'LNKB', 'MAIN', 'MAQCU', 'MAR', 'MBIO', 'MBLY', 'MBNKP', 'MBOT', 'MBSC.U', 'MEI', 'MESO', 'METCL', 'MGYR', 'MILN', 'MIN', 'MIXT', 'MLAC', 'MLACU', 'MLI', 'MMI', 'MMLP', 'MMM', 'MSGE', 'MSGM', 'MSGS', 'MS.PRK', 'MS.PRL', 'MS.PRO', 'MS.PRP', 'MTLS', 'MTN', 'MTP', 'MTR', 'MTRN', 'MTRX', 'MTRY', 'MUFG', 'MUI', 'MUJ', 'MULN', 'MUSA', 'MUX', 'MVBF', 'MVF', 'MVIS', 'MVLA', 'MVO', 'MVST', 'MVT', 'MYN', 'MYNA', 'MYRG', 'NAMS', 'NBXG', 'NCAC', 'NCNO', 'NCPL', 'NCRA', 'NCSM', 'NCTY', 'NCV', 'NCV.PRA', 'NCZ', 'NDP', 'NDRA', 'NDSN', 'NE', 'NEA', 'NEE', 'NEE.PRQ', 'NEE.PRR', 'NEGG', 'NEM', 'NEO', 'NEOG', 'NEON', 'NEOV', 'NEP', 'NEPH', 'NEPT', 'NERV', 'NESR', 'NET', 'NETC', 'NETC.U', 'NETI', 'NEU', 'NEWR', 'NEWT', 'NEXA', 'NEXI', 'NEXT', 'NFBK', 'NFE', 'NFG', 'NFJ', 'NFNT.U', 'NFTG', 'NFTY', 'NFYS', 'NFYS.U', 'NGC', 'NGC.U', 'NGG', 'NGL', 'NGL.PRB', 'NGL.PRC', 'NGM', 'NGMS', 'NGS', 'NGVC', 'NGVT', 'NH', 'NICE', 'NIO', 'NLSP', 'NLTX', 'NLY', 'NLY.PRF', 'NLY.PRG', 'NLY.PRI', 'NM', 'NMAI', 'NMCO', 'NMFC', 'NMG', 'NMI', 'NMIH', 'NMK.PRB', 'NMK.PRC', 'NMM', 'NM.PRG', 'NM.PRH', 'NMTC', 'NMTR', 'NMZ', 'NN', 'NOA', 'NOC', 'NODK', 'NOG', 'NOGN', 'NOK', 'NOM', 'NOMD', 'NOTE', 'NOTV', 'NOV', 'NOVA', 'NOVN', 'NPCT', 'NPFD', 'NPK', 'NPO', 'NPV', 'NQP', 'NR', 'NRAC', 'NRACU', 'NRBO', 'NRC', 'NRDS', 'NRDY', 'NREF', 'NREF.PRA', 'NRG', 'NRGV', 'NRGX', 'NRIM', 'NRIX', 'NRK', 'NRP', 'NRSN', 'NRT', 'NRUC', 'NRXP', 'NSA', 'NSA.PRA', 'NSC', 'NSIT', 'NSL', 'NSP', 'NSPR', 'NS.PRA', 'NS.PRB', 'NS.PRC', 'NSS', 'NSSC', 'NTST', 'NUZE', 'NVAC', 'NVACR', 'NVAX', 'NVCN', 'NVGS', 'NVOS', 'NXJ', 'NXL', 'NXTP', 'OBSV', 'OBT', 'OFED', 'OFG', 'OFIX', 'OFLX', 'OFS', 'OVBC', 'PALI', 'PBT', 'PDO', 'PDP', 'PEAK', 'PEAR', 'PFH', 'PFI', 'PFIE', 'PFIN', 'PFIS', 'PFL', 'PFLT', 'PFM', 'PFS', 'PFTAU', 'PFX', 'PFXNZ', 'PG', 'PGC', 'PGEN', 'PGJ', 'PGNY', 'PGP', 'PGR', 'PGRE', 'PGRU', 'PGRW', 'PGRWU', 'PGY', 'PGZ', 'PH', 'PHAR', 'PHAT', 'PHCF', 'PHD', 'PHG', 'PHR', 'PHT', 'PHUN', 'PHVS', 'PHX', 'PHYT', 'PHYT.U', 'PI', 'PIAI', 'PID', 'PIE', 'PII', 'PIII', 'PIK', 'PIM', 'PINC', 'PINE', 'PINS', 'PIXY', 'PIZ', 'PJT', 'PK', 'PKBK', 'PKE', 'PKI', 'PKOH', 'PKW', 'PKX', 'PL', 'PLMI', 'PRFT', 'PRFX', 'PRIF.PRF', 'PRIF.PRG', 'PSA', 'PSA.PRF', 'PSA.PRG', 'PSNL', 'PSX', 'PTH', 'PTHRU', 'PTIX', 'PTWOU', 'PWFL', 'QFIN', 'QFTA', 'QFTA.U', 'QOMO', 'QOMOR', 'QOMOU', 'QSI', 'QSR', 'QTEC', 'QTEK', 'QTR', 'QTRX', 'QTT', 'QTWO', 'QUAD', 'QUBT', 'QUIK', 'QUOT', 'QURE', 'QYLD', 'QYLE', 'QYLG', 'R', 'RA', 'RAAS', 'RACE', 'RACY', 'RACYU', 'RAD', 'RADI', 'RAIL', 'RAIN', 'RAM', 'RAMMU', 'RAMP', 'RAND', 'RANI', 'RAPT', 'RARE', 'RAVE', 'RAYA', 'RAYS', 'RBA', 'RBB', 'RBCP', 'RBKB', 'RBLX', 'RBOT', 'RBT', 'RC', 'RCA', 'RCAC', 'RCACU', 'RCAT', 'RCB', 'RCC', 'RCEL', 'RCFA', 'RCFA.U', 'RC.PRC', 'RC.PRE', 'RDCM', 'RDFN', 'RDHL', 'RDI', 'RDIB', 'RDN', 'RDNT', 'RE', 'REAL', 'REAX', 'REBN', 'REE', 'REFI', 'REFR', 'REG', 'REGN', 'REIT', 'REKR', 'RELI', 'RELL', 'RELX', 'RERE', 'RES', 'RETA', 'RETO', 'REUN', 'REVB', 'REVE', 'REVEU', 'REVG', 'REX', 'REXR', 'REXR.PRB', 'REXR.PRC', 'RFAC', 'RFACR', 'RFACU', 'RFDI', 'RFEM', 'RFEU', 'RFI', 'RFIL', 'RFL', 'RFM', 'RF.PRB', 'RGA', 'RGC', 'RGCO', 'RGEN', 'RGF', 'RGLD', 'RGLS', 'RGNX', 'RGP', 'RGR', 'RGS', 'RGT', 'RGTI', 'RH', 'RHI', 'RHP', 'RNR', 'RNR.PRF', 'RRC', 'RVSB', 'RWLK', 'RWOD', 'RWODR', 'RXO', 'RXRX', 'RXST', 'RXT', 'RY', 'RYAAY', 'RYAM', 'RYAN', 'RYI', 'RY.PRT', 'RYTM', 'RZB', 'RZC', 'RZLT', 'S', 'SA', 'SABR', 'SABRP', 'SABS', 'SAFE', 'SAFT', 'SAGA', 'SAGAR', 'SAGAU', 'SAGE', 'SAH', 'SAI', 'SAIA', 'SAIC', 'SAJ', 'SAL', 'SALM', 'SAM', 'SANM', 'SANW', 'SAP', 'SASI', 'SASR', 'SAT', 'SATL', 'SATS', 'SAVA', 'SAVE', 'SAY', 'SB', 'SBAC', 'SBBA', 'SBCF', 'SBET', 'SBFG', 'SBFM', 'SBGI', 'SBH', 'SBI', 'SB.PRC', 'SB.PRD', 'SBRA', 'SBS', 'SBSI', 'SBSW', 'SBT', 'SBUX', 'SBXC.U', 'SCAQ', 'SCAQU', 'SCCO', 'SCD', 'SCE.PRG', 'SCHL', 'SCHN', 'SCHW', 'SCHW.PRD', 'SCHW.PRJ', 'SCKT', 'SCOR', 'SCPH', 'SCPL', 'SCRM', 'SCRMU', 'SCS', 'SCSC', 'SCTL', 'SCU', 'SCUA', 'SCUA.U', 'SCVL', 'SCWO', 'SCWX', 'SCX', 'SDAC', 'SDC', 'SF', 'SFE', 'SF.PRB', 'SF.PRC', 'SF.PRD', 'SGIIU', 'SHOO', 'SLAMU', 'SNAX', 'SNDA', 'SNDL', 'SNDR', 'SNX', 'SNY', 'SO', 'SON', 'SONO', 'SPNT', 'SQZ', 'SRL', 'SSIC', 'STKS', 'STLD', 'STRT', 'STSA', 'STSS', 'SYK', 'SZZL', 'TARA', 'TBC', 'TBCP', 'TBLD', 'TCHI', 'TCI', 'TCN', 'TCON', 'TCRX', 'TEI', 'TFPM', 'TFSA', 'TFSL', 'TFX', 'TGTX', 'TGVC', 'TGVCU', 'THRY', 'THS', 'THTX', 'THW', 'TIG', 'TIGO', 'TIO', 'TIOA', 'TIPT', 'TIRX', 'TISI', 'TITN', 'TLIS', 'TLK', 'TLRY', 'TLYS', 'TM', 'TNDM', 'TOMZ', 'TOP', 'TOPS', 'TPIC', 'TPL', 'TPR', 'TPTA', 'TPVG', 'TRAQ.U', 'TRC', 'TRCA', 'TRCA.U', 'TRDA', 'TRKA', 'TRMD', 'TRMK', 'TRNS', 'TRTL.U', 'TRTN.PRD', 'TRTN.PRE', 'TRTX.PRC', 'TSLI', 'TYL', 'TYRA', 'UEVM', 'USA', 'USAC', 'USAP', 'USAU', 'USBF', 'USB.PRA', 'USB.PRP', 'USB.PRQ', 'USB.PRR', 'USB.PRS', 'USCB', 'USCT', 'USMC', 'USX', 'USXF', 'UTWO', 'UTZ', 'UXIN', 'VIAV', 'VICI', 'VICR', 'VIEW', 'VIGI', 'VIGL', 'VII', 'VIIAU', 'VINC', 'VINO', 'VINP', 'VIRC', 'VPCBU', 'VPG', 'VSH', 'VSMV', 'VST', 'VSTA', 'VSTM', 'VSTO', 'VTC', 'VTEX', 'VTGN', 'VTHR', 'VTIP', 'VTLE', 'VTN', 'VTNR', 'VTOL', 'VTR', 'VTRS', 'VTRU', 'VTS', 'VTSI', 'VTVT', 'VTWG', 'VTWV', 'VZ', 'VZIO', 'W', 'WAB', 'WABC', 'WAVS', 'WAVSU', 'WB', 'WBA', 'WBD', 'WBND', 'WCC', 'WGS', 'WH', 'WHG', 'WINVR', 'WINVU', 'WIRE', 'WMC', 'WMG', 'WMK', 'WMPN', 'WMS', 'WMT', 'WNC', 'WNDY', 'WNEB', 'WOLF', 'WPC', 'WPM', 'WPP', 'WPRT', 'WRAP', 'WRB', 'WRB.PRE', 'WRB.PRG', 'WRK', 'YORW', 'YOSH', 'YOTA', 'ZBRA', 'ZION', 'ZIONL', 'ZIONO']\n"
     ]
    }
   ],
   "source": [
    "#Get List of All Tickers\n",
    "#print(getTickerList())"
   ]
  },
  {
   "cell_type": "code",
   "execution_count": 100,
   "id": "c9b649ac",
   "metadata": {},
   "outputs": [
    {
     "data": {
      "text/plain": [
       "['GNSS',\n",
       " 'SF',\n",
       " 'GSQB.U',\n",
       " 'GTEC',\n",
       " 'GNL.PRB',\n",
       " 'GSBD',\n",
       " 'AAPL',\n",
       " 'GNPX',\n",
       " 'GSUN',\n",
       " 'GNT.PRA']"
      ]
     },
     "execution_count": 100,
     "metadata": {},
     "output_type": "execute_result"
    }
   ],
   "source": [
    "#Sample 10 random stocks\n",
    "tickers = getTickerList()\n",
    "random_pick= list(np.random.choice(tickers, 10 if len(tickers) > 10 else  len(tickers), replace=False))\n",
    "random_pick"
   ]
  },
  {
   "cell_type": "code",
   "execution_count": 101,
   "id": "5d5327a8",
   "metadata": {},
   "outputs": [
    {
     "data": {
      "text/html": [
       "<div>\n",
       "<style scoped>\n",
       "    .dataframe tbody tr th:only-of-type {\n",
       "        vertical-align: middle;\n",
       "    }\n",
       "\n",
       "    .dataframe tbody tr th {\n",
       "        vertical-align: top;\n",
       "    }\n",
       "\n",
       "    .dataframe thead th {\n",
       "        text-align: right;\n",
       "    }\n",
       "</style>\n",
       "<table border=\"1\" class=\"dataframe\">\n",
       "  <thead>\n",
       "    <tr style=\"text-align: right;\">\n",
       "      <th></th>\n",
       "      <th>id</th>\n",
       "      <th>date</th>\n",
       "      <th>symbol</th>\n",
       "      <th>open</th>\n",
       "      <th>close</th>\n",
       "      <th>high</th>\n",
       "      <th>low</th>\n",
       "      <th>trade_count</th>\n",
       "      <th>vol</th>\n",
       "      <th>vwap</th>\n",
       "      <th>datetime</th>\n",
       "    </tr>\n",
       "  </thead>\n",
       "  <tbody>\n",
       "    <tr>\n",
       "      <th>0</th>\n",
       "      <td>286908</td>\n",
       "      <td>2022-09-15</td>\n",
       "      <td>GNSS</td>\n",
       "      <td>3.1851</td>\n",
       "      <td>3.1851</td>\n",
       "      <td>3.1851</td>\n",
       "      <td>3.1851</td>\n",
       "      <td>1.0</td>\n",
       "      <td>335.0</td>\n",
       "      <td>3.185100</td>\n",
       "      <td>2022-09-15 10:39:00-04:00</td>\n",
       "    </tr>\n",
       "    <tr>\n",
       "      <th>1</th>\n",
       "      <td>286909</td>\n",
       "      <td>2022-09-15</td>\n",
       "      <td>GNSS</td>\n",
       "      <td>3.1350</td>\n",
       "      <td>3.1350</td>\n",
       "      <td>3.1350</td>\n",
       "      <td>3.1350</td>\n",
       "      <td>2.0</td>\n",
       "      <td>1253.0</td>\n",
       "      <td>3.135156</td>\n",
       "      <td>2022-09-15 11:12:00-04:00</td>\n",
       "    </tr>\n",
       "    <tr>\n",
       "      <th>2</th>\n",
       "      <td>286910</td>\n",
       "      <td>2022-09-15</td>\n",
       "      <td>GNSS</td>\n",
       "      <td>3.1050</td>\n",
       "      <td>3.1050</td>\n",
       "      <td>3.1050</td>\n",
       "      <td>3.1050</td>\n",
       "      <td>2.0</td>\n",
       "      <td>104.0</td>\n",
       "      <td>3.105000</td>\n",
       "      <td>2022-09-15 11:24:00-04:00</td>\n",
       "    </tr>\n",
       "    <tr>\n",
       "      <th>3</th>\n",
       "      <td>286911</td>\n",
       "      <td>2022-09-15</td>\n",
       "      <td>GNSS</td>\n",
       "      <td>3.0300</td>\n",
       "      <td>3.0300</td>\n",
       "      <td>3.0300</td>\n",
       "      <td>3.0300</td>\n",
       "      <td>1.0</td>\n",
       "      <td>100.0</td>\n",
       "      <td>3.030000</td>\n",
       "      <td>2022-09-15 12:32:00-04:00</td>\n",
       "    </tr>\n",
       "    <tr>\n",
       "      <th>4</th>\n",
       "      <td>286912</td>\n",
       "      <td>2022-09-15</td>\n",
       "      <td>GNSS</td>\n",
       "      <td>3.0000</td>\n",
       "      <td>3.0000</td>\n",
       "      <td>3.0000</td>\n",
       "      <td>3.0000</td>\n",
       "      <td>2.0</td>\n",
       "      <td>104.0</td>\n",
       "      <td>3.000962</td>\n",
       "      <td>2022-09-15 12:54:00-04:00</td>\n",
       "    </tr>\n",
       "    <tr>\n",
       "      <th>...</th>\n",
       "      <td>...</td>\n",
       "      <td>...</td>\n",
       "      <td>...</td>\n",
       "      <td>...</td>\n",
       "      <td>...</td>\n",
       "      <td>...</td>\n",
       "      <td>...</td>\n",
       "      <td>...</td>\n",
       "      <td>...</td>\n",
       "      <td>...</td>\n",
       "      <td>...</td>\n",
       "    </tr>\n",
       "    <tr>\n",
       "      <th>3893</th>\n",
       "      <td>290801</td>\n",
       "      <td>2023-03-13</td>\n",
       "      <td>GNSS</td>\n",
       "      <td>3.4500</td>\n",
       "      <td>3.4500</td>\n",
       "      <td>3.4500</td>\n",
       "      <td>3.4500</td>\n",
       "      <td>6.0</td>\n",
       "      <td>235.0</td>\n",
       "      <td>3.450308</td>\n",
       "      <td>2023-03-13 15:55:00-04:00</td>\n",
       "    </tr>\n",
       "    <tr>\n",
       "      <th>3894</th>\n",
       "      <td>290802</td>\n",
       "      <td>2023-03-13</td>\n",
       "      <td>GNSS</td>\n",
       "      <td>3.4700</td>\n",
       "      <td>3.4700</td>\n",
       "      <td>3.4700</td>\n",
       "      <td>3.4700</td>\n",
       "      <td>2.0</td>\n",
       "      <td>120.0</td>\n",
       "      <td>3.469836</td>\n",
       "      <td>2023-03-13 15:56:00-04:00</td>\n",
       "    </tr>\n",
       "    <tr>\n",
       "      <th>3895</th>\n",
       "      <td>290803</td>\n",
       "      <td>2023-03-13</td>\n",
       "      <td>GNSS</td>\n",
       "      <td>3.4500</td>\n",
       "      <td>3.4500</td>\n",
       "      <td>3.4500</td>\n",
       "      <td>3.4500</td>\n",
       "      <td>4.0</td>\n",
       "      <td>247.0</td>\n",
       "      <td>3.450000</td>\n",
       "      <td>2023-03-13 15:57:00-04:00</td>\n",
       "    </tr>\n",
       "    <tr>\n",
       "      <th>3896</th>\n",
       "      <td>290804</td>\n",
       "      <td>2023-03-13</td>\n",
       "      <td>GNSS</td>\n",
       "      <td>3.4500</td>\n",
       "      <td>3.4500</td>\n",
       "      <td>3.4500</td>\n",
       "      <td>3.4500</td>\n",
       "      <td>8.0</td>\n",
       "      <td>328.0</td>\n",
       "      <td>3.450030</td>\n",
       "      <td>2023-03-13 15:59:00-04:00</td>\n",
       "    </tr>\n",
       "    <tr>\n",
       "      <th>3897</th>\n",
       "      <td>290805</td>\n",
       "      <td>2023-03-13</td>\n",
       "      <td>GNSS</td>\n",
       "      <td>3.4500</td>\n",
       "      <td>3.4500</td>\n",
       "      <td>3.4500</td>\n",
       "      <td>3.4500</td>\n",
       "      <td>1.0</td>\n",
       "      <td>436.0</td>\n",
       "      <td>3.450000</td>\n",
       "      <td>2023-03-13 16:00:00-04:00</td>\n",
       "    </tr>\n",
       "  </tbody>\n",
       "</table>\n",
       "<p>3898 rows × 11 columns</p>\n",
       "</div>"
      ],
      "text/plain": [
       "          id        date symbol    open   close    high     low  trade_count  \\\n",
       "0     286908  2022-09-15   GNSS  3.1851  3.1851  3.1851  3.1851          1.0   \n",
       "1     286909  2022-09-15   GNSS  3.1350  3.1350  3.1350  3.1350          2.0   \n",
       "2     286910  2022-09-15   GNSS  3.1050  3.1050  3.1050  3.1050          2.0   \n",
       "3     286911  2022-09-15   GNSS  3.0300  3.0300  3.0300  3.0300          1.0   \n",
       "4     286912  2022-09-15   GNSS  3.0000  3.0000  3.0000  3.0000          2.0   \n",
       "...      ...         ...    ...     ...     ...     ...     ...          ...   \n",
       "3893  290801  2023-03-13   GNSS  3.4500  3.4500  3.4500  3.4500          6.0   \n",
       "3894  290802  2023-03-13   GNSS  3.4700  3.4700  3.4700  3.4700          2.0   \n",
       "3895  290803  2023-03-13   GNSS  3.4500  3.4500  3.4500  3.4500          4.0   \n",
       "3896  290804  2023-03-13   GNSS  3.4500  3.4500  3.4500  3.4500          8.0   \n",
       "3897  290805  2023-03-13   GNSS  3.4500  3.4500  3.4500  3.4500          1.0   \n",
       "\n",
       "         vol      vwap                  datetime  \n",
       "0      335.0  3.185100 2022-09-15 10:39:00-04:00  \n",
       "1     1253.0  3.135156 2022-09-15 11:12:00-04:00  \n",
       "2      104.0  3.105000 2022-09-15 11:24:00-04:00  \n",
       "3      100.0  3.030000 2022-09-15 12:32:00-04:00  \n",
       "4      104.0  3.000962 2022-09-15 12:54:00-04:00  \n",
       "...      ...       ...                       ...  \n",
       "3893   235.0  3.450308 2023-03-13 15:55:00-04:00  \n",
       "3894   120.0  3.469836 2023-03-13 15:56:00-04:00  \n",
       "3895   247.0  3.450000 2023-03-13 15:57:00-04:00  \n",
       "3896   328.0  3.450030 2023-03-13 15:59:00-04:00  \n",
       "3897   436.0  3.450000 2023-03-13 16:00:00-04:00  \n",
       "\n",
       "[3898 rows x 11 columns]"
      ]
     },
     "execution_count": 101,
     "metadata": {},
     "output_type": "execute_result"
    }
   ],
   "source": [
    "getTicker(random_pick[0])"
   ]
  },
  {
   "cell_type": "code",
   "execution_count": 93,
   "id": "9c3d2b74",
   "metadata": {},
   "outputs": [],
   "source": [
    "#Get Specific Ticker\n",
    "AAPL = getTicker('AAPL')"
   ]
  },
  {
   "cell_type": "code",
   "execution_count": 71,
   "id": "64a4aba5",
   "metadata": {},
   "outputs": [
    {
     "data": {
      "text/plain": [
       "id                                   393\n",
       "date                          2022-09-15\n",
       "symbol                              AAPL\n",
       "open                              151.89\n",
       "close                             151.73\n",
       "high                              151.89\n",
       "low                               151.73\n",
       "trade_count                        163.0\n",
       "vol                              20313.0\n",
       "vwap                          151.822464\n",
       "datetime       2022-09-15 16:56:00-04:00\n",
       "Name: 390, dtype: object"
      ]
     },
     "execution_count": 71,
     "metadata": {},
     "output_type": "execute_result"
    }
   ],
   "source": [
    "AAPL.loc[390,:]"
   ]
  },
  {
   "cell_type": "code",
   "execution_count": null,
   "id": "0ad1133d",
   "metadata": {},
   "outputs": [],
   "source": []
  }
 ],
 "metadata": {
  "kernelspec": {
   "display_name": "Python 3 (ipykernel)",
   "language": "python",
   "name": "python3"
  },
  "language_info": {
   "codemirror_mode": {
    "name": "ipython",
    "version": 3
   },
   "file_extension": ".py",
   "mimetype": "text/x-python",
   "name": "python",
   "nbconvert_exporter": "python",
   "pygments_lexer": "ipython3",
   "version": "3.7.4"
  }
 },
 "nbformat": 4,
 "nbformat_minor": 5
}
